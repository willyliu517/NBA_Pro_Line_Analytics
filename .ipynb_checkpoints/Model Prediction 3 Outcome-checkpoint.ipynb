{
 "cells": [
  {
   "cell_type": "code",
   "execution_count": 1,
   "metadata": {
    "collapsed": true
   },
   "outputs": [],
   "source": [
    "from hyperopt import fmin, STATUS_OK, Trials, hp, tpe, rand\n",
    "import lightgbm\n",
    "import pandas as pd \n",
    "import numpy as np\n",
    "from pathlib import Path\n",
    "import os \n",
    "import sys \n",
    "\n",
    "home_dir = '/Users/Liu'\n",
    "scripts_dir = os.path.join(home_dir, 'NBA_Pro_Line_Analytics/GBM_model_build')\n",
    "sys.path.insert(1, scripts_dir)\n",
    "\n",
    "import model_build_scripts\n",
    "from model_build_scripts import helpers\n",
    "from model_build_scripts.NBA_model_build import NBA_Model_Build"
   ]
  },
  {
   "cell_type": "code",
   "execution_count": 2,
   "metadata": {
    "collapsed": true
   },
   "outputs": [],
   "source": [
    "#Defines the model scenario in ./configs/scenarios_config.yml\n",
    "model_name = \"GBM_three_way_outcome_model_build_all_features\""
   ]
  },
  {
   "cell_type": "code",
   "execution_count": 3,
   "metadata": {},
   "outputs": [
    {
     "name": "stderr",
     "output_type": "stream",
     "text": [
      "/Users/Liu/NBA_Pro_Line_Analytics/GBM_model_build/model_build_scripts/helpers.py:14: YAMLLoadWarning: calling yaml.load() without Loader=... is deprecated, as the default Loader is unsafe. Please read https://msg.pyyaml.org/load for full details.\n",
      "  config = yaml.load(stream)\n"
     ]
    }
   ],
   "source": [
    "home_dir = Path(home_dir)\n",
    "scenario_dir = home_dir / 'NBA_Pro_Line_Analytics' / 'GBM_model_build' / 'scenarios_config.yml'\n",
    "feature_dir = home_dir / 'NBA_Pro_Line_Analytics' / 'GBM_model_build' / 'features_config.yml'\n",
    "model_scenario = NBA_Model_Build(model_name, \n",
    "                                 feature_yaml = feature_dir, \n",
    "                                 scenario_yaml = scenario_dir)"
   ]
  },
  {
   "cell_type": "code",
   "execution_count": 4,
   "metadata": {
    "collapsed": true
   },
   "outputs": [],
   "source": [
    "model_scenario.load_data()"
   ]
  },
  {
   "cell_type": "code",
   "execution_count": 5,
   "metadata": {
    "collapsed": true
   },
   "outputs": [],
   "source": [
    "initial_params = {'objective': 'multiclass',\n",
    "                  'metric': 'multi_logloss',\n",
    "                  'num_boost_round': 1000,\n",
    "                  'early_stopping_rounds': 20,\n",
    "                  'num_classes': 3,\n",
    "                  'max_depth': 15,\n",
    "                  'seed': model_scenario.seed\n",
    "                 }"
   ]
  },
  {
   "cell_type": "code",
   "execution_count": 6,
   "metadata": {},
   "outputs": [
    {
     "name": "stderr",
     "output_type": "stream",
     "text": [
      "/Users/Liu/anaconda3/envs/gbmbuild/lib/python3.7/site-packages/lightgbm/engine.py:148: UserWarning: Found `num_boost_round` in params. Will use it instead of argument\n",
      "  warnings.warn(\"Found `{}` in params. Will use it instead of argument\".format(alias))\n",
      "/Users/Liu/anaconda3/envs/gbmbuild/lib/python3.7/site-packages/lightgbm/engine.py:153: UserWarning: Found `early_stopping_rounds` in params. Will use it instead of argument\n",
      "  warnings.warn(\"Found `{}` in params. Will use it instead of argument\".format(alias))\n"
     ]
    },
    {
     "name": "stdout",
     "output_type": "stream",
     "text": [
      "288 features below threshold\n",
      "The following features will be removed:\n",
      "['Num_Players_3plus_TO_L5G_HT', 'Num_Players_2plus_BL_L7G_RT', 'HT_Win_LG', 'HT_cnt_within_5_L3G', 'Num_Players_1plus_BL_L9G_RT', 'Num_Players_15plus_TOT_L4G_RT', 'Num_Players_25plus_PPG_LG_HT', 'Num_Players_5plus_APG_L3G_RT', 'Num_Players_3plus_ST_L10G_HT', 'Num_Players_5plus_TOT_L6G_RT', 'Num_Players_5plus_TO_L5G_HT', 'Num_Players_5plus_APG_L8G_HT', 'Num_Players_15plus_TOT_L10G_RT', 'Num_Players_3plus_BL_L6G_RT', 'Num_Players_2plus_BL_L8G_HT', 'Num_Players_10plus_APG_L9G_RT', 'Num_Players_10plus_APG_L8G_RT', 'Num_Players_5plus_TO_L7G_RT', 'Num_Players_25plus_PPG_L2G_RT', 'Num_Players_30plus_PPG_L5G_HT', 'Num_Players_15plus_TOT_L8G_RT', 'Num_Players_20plus_PPG_L5G_HT', 'Num_Players_3plus_ST_L3G_RT', 'HT_num_11_plus_pts_wins_L4G', 'Num_Players_15plus_APG_L7G_HT', 'Num_Players_30plus_PPG_L5G_RT', 'Num_Players_3plus_ST_L8G_RT', 'Num_Players_5plus_APG_L6G_RT', 'HT_Num_Wins_L8G', 'RT_cnt_within_5_L8G', 'RT_Num_Losses_L10G', 'Num_Players_15plus_TOT_L9G_HT', 'RT_cnt_wins_6_plus_L2G', 'RT_num_11_plus_pts_loss_L3G', 'Num_Players_30plus_PPG_L10G_RT', 'Num_Players_5plus_TO_L5G_RT', 'Num_Players_2plus_ST_L4G_HT', 'RT_AVG_Loss_PTdiff_L7G', 'Num_Players_15plus_APG_L3G_RT', 'Num_Players_30plus_PPG_L6G_RT', 'Num_Players_10plus_TOT_L8G_HT', 'Num_Players_15plus_APG_L7G_RT', 'RT_Num_Losses_L5G', 'HT_cnt_wins_6_plus_L2G', 'RT_num_11_plus_pts_loss_L8G', 'Num_Players_2plus_ST_L8G_RT', 'HT_Num_Losses_L5G', 'Num_Players_3plus_ST_L6G_RT', 'Num_Players_10plus_APG_L3G_HT', 'RT_cnt_loss_6_plus_L3G', 'HT_AVG_Loss_PTdiff_L10G', 'Num_Players_10plus_APG_L8G_HT', 'Num_Players_3plus_BL_L5G_RT', 'Num_Players_3plus_ST_L10G_RT', 'Num_Players_10plus_TOT_L10G_HT', 'Num_Players_15plus_TOT_L5G_RT', 'Num_Players_15plus_APG_L6G_RT', 'Num_Players_2plus_BL_L6G_HT', 'Num_Players_5plus_TO_LG_HT', 'Num_Players_2plus_ST_L7G_RT', 'Num_Players_10plus_APG_L7G_RT', 'Num_Players_5plus_TO_L3G_RT', 'Num_Players_5plus_TOT_L2G_HT', 'Num_Players_15plus_APG_LG_RT', 'Num_Players_2plus_BL_L4G_HT', 'RT_Win_LG', 'Num_Players_15plus_APG_L10G_HT', 'Num_Players_15plus_APG_L10G_RT', 'HT_cnt_wins_6_plus_L3G', 'Num_Players_25plus_PPG_L8G_HT', 'HT_AVG_Loss_PTdiff_L5G', 'Num_Players_15plus_TOT_L10G_HT', 'Num_Players_1plus_BL_L5G_RT', 'Num_Players_10plus_APG_L9G_HT', 'Num_Players_15plus_TOT_L9G_RT', 'HT_num_11_plus_pts_wins_LG', 'Num_Players_2plus_BL_L3G_RT', 'RT_cnt_within_5_L4G', 'RT_AVG_Win_PTdiff_L4G', 'RT_AVG_Win_PTdiff_L3G', 'Num_Players_30plus_PPG_L7G_RT', 'Num_Players_3plus_BL_L9G_RT', 'Num_Players_3plus_TO_L7G_HT', 'Num_Players_1plus_BL_L3G_HT', 'RT_cnt_loss_6_plus_LG', 'RT_AVG_Win_PTdiff_L8G', 'Num_Players_30plus_PPG_L4G_RT', 'HT_Num_Wins_L10G', 'RT_cnt_wins_6_plus_L3G', 'Num_Players_3plus_BL_LG_HT', 'Num_Players_3plus_ST_L6G_HT', 'Num_Players_3plus_BL_L8G_RT', 'HT_AVG_Loss_PTdiff_LG', 'Num_Players_15plus_APG_L5G_RT', 'Num_Players_10plus_APG_L3G_RT', 'Num_Players_15plus_APG_L6G_HT', 'Num_Players_2plus_ST_L6G_RT', 'Num_Players_30plus_PPG_L9G_HT', 'RT_num_11_plus_pts_loss_LG', 'Num_Players_20plus_PPG_L9G_RT', 'Num_Players_2plus_BL_LG_HT', 'HT_AVG_Loss_PTdiff_L2G', 'Num_Players_15plus_APG_L8G_HT', 'Num_Players_30plus_PPG_L2G_RT', 'Num_Players_10plus_APG_L7G_HT', 'Num_Players_25plus_PPG_LG_RT', 'Num_Players_1plus_BL_L7G_RT', 'Num_Players_15plus_PPG_L4G_HT', 'RT_Num_Wins_L6G', 'Num_Players_2plus_ST_L4G_RT', 'Num_Players_5plus_APG_L6G_HT', 'HT_Num_Wins_L4G', 'Num_Players_20plus_PPG_L3G_HT', 'Num_Players_3plus_BL_L7G_RT', 'Num_Players_30plus_PPG_L8G_RT', 'Num_Players_5plus_TO_L2G_HT', 'Num_Players_25plus_PPG_L10G_RT', 'Num_Players_20plus_PPG_L6G_RT', 'Num_Players_10plus_TOT_L9G_HT', 'HT_Num_Losses_L2G', 'HT_num_11_plus_pts_wins_L2G', 'Num_Players_10plus_APG_L6G_RT', 'RT_AVG_Win_PTdiff_L5G', 'Num_Players_5plus_TO_L4G_RT', 'Num_Players_5plus_TO_L9G_RT', 'Num_Players_3plus_BL_L8G_HT', 'HT_Num_Losses_L10G', 'HT_AVG_Win_PTdiff_L8G', 'Num_Players_2plus_ST_L9G_HT', 'RT_AVG_Loss_PTdiff_L10G', 'HT_Num_Wins_L2G', 'Num_Players_15plus_APG_L2G_RT', 'RT_cnt_wins_6_plus_LG', 'Num_Players_30plus_PPG_L7G_HT', 'HT_AVG_Win_PTdiff_LG', 'Num_Players_2plus_BL_L4G_RT', 'RT_Num_Wins_L9G', 'Num_Players_3plus_BL_L2G_RT', 'Num_Players_10plus_APG_L10G_HT', 'Num_Players_1plus_TO_L4G_HT', 'Num_Players_10plus_APG_L6G_HT', 'RT_Num_Wins_L8G', 'Num_Players_30plus_PPG_L3G_HT', 'Num_Players_3plus_TO_L8G_HT', 'HT_cnt_loss_6_plus_L9G', 'HT_AVG_Loss_PTdiff_L7G', 'Num_Players_5plus_APG_L7G_HT', 'Num_Players_25plus_PPG_L9G_HT', 'Num_Players_3plus_ST_L3G_HT', 'HT_AVG_Win_PTdiff_L2G', 'RT_AVG_Win_PTdiff_L7G', 'Num_Players_3plus_BL_L10G_HT', 'Num_Players_3plus_BL_L5G_HT', 'Num_Players_10plus_TOT_L6G_RT', 'Num_Players_5plus_TO_L3G_HT', 'Num_Players_10plus_APG_L10G_RT', 'RT_cnt_wins_6_plus_L4G', 'Num_Players_1plus_BL_L9G_HT', 'Num_Players_15plus_APG_L9G_RT', 'Num_Players_15plus_TOT_LG_RT', 'Num_Players_30plus_PPG_LG_HT', 'Num_Players_3plus_ST_L5G_RT', 'Num_Players_15plus_TOT_L8G_HT', 'HT_AVG_Win_PTdiff_L5G', 'HT_AVG_Loss_PTdiff_L4G', 'Num_Players_30plus_PPG_L8G_HT', 'HT_AVG_Win_PTdiff_L9G', 'RT_num_11_plus_pts_wins_L6G', 'Num_Players_10plus_TOT_L2G_RT', 'RT_Num_Wins_L10G', 'Num_Players_25plus_PPG_L3G_RT', 'Num_Players_15plus_APG_L9G_HT', 'RT_AVG_Loss_PTdiff_L5G', 'Num_Players_25plus_PPG_L7G_HT', 'RT_cnt_loss_6_plus_L6G', 'RT_AVG_Win_PTdiff_LG', 'HT_AVG_Loss_PTdiff_L3G', 'Num_Players_25plus_PPG_L2G_HT', 'HT_Num_Losses_L4G', 'Num_Players_3plus_ST_L2G_RT', 'Num_Players_3plus_ST_L4G_RT', 'Num_Players_2plus_ST_L10G_RT', 'Num_Players_15plus_TOT_L5G_HT', 'RT_AVG_Win_PTdiff_L6G', 'Num_Players_5plus_TO_L9G_HT', 'RT_Num_Losses_L4G', 'RT_Num_Wins_L3G', 'Num_Players_3plus_BL_L2G_HT', 'RT_AVG_Loss_PTdiff_LG', 'Num_Players_3plus_ST_L9G_RT', 'HT_Num_Losses_L7G', 'HT_num_11_plus_pts_loss_LG', 'HT_cnt_loss_6_plus_L2G', 'HT_AVG_Win_PTdiff_L6G', 'Num_Players_3plus_BL_L9G_HT', 'Num_Players_3plus_BL_L3G_HT', 'Num_Players_2plus_ST_L10G_HT', 'Num_Players_5plus_TO_L6G_RT', 'Num_Players_3plus_TO_L9G_HT', 'HT_AVG_Win_PTdiff_L7G', 'Num_Players_10plus_APG_LG_RT', 'HT_cnt_wins_6_plus_LG', 'Num_Players_30plus_PPG_L9G_RT', 'APG_AVG_L3G_HT', 'RT_Num_Losses_L8G', 'Num_Players_5plus_TOT_L2G_RT', 'RT_cnt_within_5_L3G', 'Num_Players_5plus_TO_L6G_HT', 'Num_Players_3plus_BL_L3G_RT', 'RT_num_11_plus_pts_wins_L7G', 'Num_Players_15plus_APG_L2G_HT', 'Num_Players_3plus_BL_LG_RT', 'Num_Players_15plus_APG_L8G_RT', 'RT_cnt_within_5_LG', 'Num_Players_3plus_ST_L4G_HT', 'HT_Loss_LG', 'Num_Players_15plus_PPG_L6G_HT', 'Num_Players_25plus_PPG_L6G_HT', 'HT_Num_Losses_L8G', 'Num_Players_15plus_APG_LG_HT', 'RT_Num_Losses_L7G', 'RT_AVG_Loss_PTdiff_L6G', 'Num_Players_5plus_TO_L10G_HT', 'Num_Players_15plus_APG_L3G_HT', 'RT_AVG_Loss_PTdiff_L2G', 'Num_Players_3plus_TO_L4G_HT', 'Num_Players_3plus_ST_LG_RT', 'Num_Players_3plus_ST_L8G_HT', 'RT_Loss_LG', 'RT_Num_Wins_L2G', 'Num_Players_10plus_TOT_L9G_RT', 'Num_Players_3plus_TO_L5G_RT', 'Num_Players_2plus_BL_L2G_HT', 'Num_Players_25plus_PPG_L3G_HT', 'Num_Players_5plus_TO_L7G_HT', 'RT_num_11_plus_pts_wins_L5G', 'HT_AVG_Loss_PTdiff_L6G', 'Num_Players_10plus_TOT_L6G_HT', 'HT_Num_Losses_L6G', 'Num_Players_3plus_ST_L9G_HT', 'Num_Players_15plus_APG_L4G_RT', 'Num_Players_15plus_TOT_L3G_RT', 'Num_Players_5plus_APG_L4G_RT', 'HT_AVG_Loss_PTdiff_L8G', 'Num_Players_15plus_APG_L5G_HT', 'HT_AVG_Win_PTdiff_L4G', 'Num_Players_15plus_APG_L4G_HT', 'RT_AVG_Win_PTdiff_L2G', 'RT_Num_Wins_L4G', 'Num_Players_1plus_ST_LG_RT', 'Num_Players_15plus_TOT_L6G_RT', 'Num_Players_10plus_TOT_L2G_HT', 'Num_Players_15plus_TOT_L7G_HT', 'HT_Num_Losses_L9G', 'Num_Players_15plus_TOT_L7G_RT', 'RT_AVG_Loss_PTdiff_L3G', 'Num_Players_2plus_BL_L2G_RT', 'Num_Players_2plus_BL_L6G_RT', 'HT_Num_Wins_L3G', 'Num_Players_10plus_APG_L5G_HT', 'Num_Players_30plus_PPG_L6G_HT', 'Num_Players_2plus_ST_L5G_RT', 'Num_Players_3plus_TO_L6G_HT', 'HT_num_11_plus_pts_loss_L7G', 'Num_Players_2plus_ST_L9G_RT', 'HT_Num_Wins_L5G', 'RT_Num_Losses_L9G', 'HT_num_11_plus_pts_loss_L2G', 'Num_Players_3plus_BL_L10G_RT', 'Num_Players_5plus_TO_L8G_HT', 'RT_cnt_wins_6_plus_L6G', 'Num_Players_15plus_TOT_L3G_HT', 'Num_Players_15plus_TOT_L6G_HT', 'Num_Players_3plus_BL_L4G_HT', 'Num_Players_5plus_TO_L4G_HT', 'Num_Players_3plus_ST_L2G_HT', 'Num_Players_2plus_BL_L5G_RT', 'Num_Players_25plus_PPG_L6G_RT', 'Num_Players_5plus_TO_L10G_RT', 'RT_Num_Losses_L2G', 'Num_Players_5plus_TO_L8G_RT', 'HT_cnt_within_5_L10G', 'APG_AVG_L3G_RT', 'Num_Players_10plus_TOT_L3G_RT', 'Num_Players_5plus_TO_L2G_RT', 'RT_num_11_plus_pts_wins_LG', 'HT_Num_Losses_L3G', 'HT_num_11_plus_pts_loss_L3G']\n"
     ]
    }
   ],
   "source": [
    "#Runs Recursive Feature Elimination to Remove all features of 0 Importance\n",
    "post_rfe_model, var_importance  = model_scenario.run_rfe(model_params= initial_params, \n",
    "                                                         target = model_scenario.target, X_vars= model_scenario.X_vars)"
   ]
  },
  {
   "cell_type": "code",
   "execution_count": 7,
   "metadata": {
    "collapsed": true
   },
   "outputs": [],
   "source": [
    "initial_params['bagging_freq'] = 1"
   ]
  },
  {
   "cell_type": "code",
   "execution_count": 8,
   "metadata": {},
   "outputs": [
    {
     "name": "stdout",
     "output_type": "stream",
     "text": [
      "100%|██████████| 200/200 [1:04:48<00:00, 19.44s/trial, best loss: -0.42337959448864404]\n"
     ]
    }
   ],
   "source": [
    "#Runs Hyperparameter tuning (Bayesian Optimization) - current scenario set to complete 200 rounds \n",
    "best_params, hyperparam_obj = model_scenario.run_hyperopt(model_scenario.hyperopt_param_space, \n",
    "                                                          list(post_rfe_model.booster_.feature_name()), \n",
    "                                                          model_params = initial_params, \n",
    "                                                          fmin_max_evals = model_scenario.fmin_max_evals)"
   ]
  },
  {
   "cell_type": "code",
   "execution_count": 9,
   "metadata": {},
   "outputs": [
    {
     "data": {
      "text/plain": [
       "{'colsample_bytree': 0.7956792341863412,\n",
       " 'learning_rate': 0.024056645123924907,\n",
       " 'min_data_in_leaf': 90.0,\n",
       " 'num_leaves': 37.0,\n",
       " 'reg_alpha': 0.12682563184942588,\n",
       " 'reg_lambda': 0.4946371233393574,\n",
       " 'subsample': 0.65}"
      ]
     },
     "execution_count": 9,
     "metadata": {},
     "output_type": "execute_result"
    }
   ],
   "source": [
    "#Runs Hyperparameter tuning (Bayesian Optimization) - current scenario set to complete 200 rounds \n",
    "best_params"
   ]
  },
  {
   "cell_type": "code",
   "execution_count": 21,
   "metadata": {
    "collapsed": true
   },
   "outputs": [],
   "source": [
    "best_params['num_leaves'] = int(best_params['num_leaves'])\n",
    "best_params['min_data_in_leaf'] = int(best_params['min_data_in_leaf'])"
   ]
  },
  {
   "cell_type": "code",
   "execution_count": 22,
   "metadata": {},
   "outputs": [],
   "source": [
    "static_params =  {'objective': 'multiclass',\n",
    "                  'metric': 'multi_logloss',\n",
    "                  'num_boost_round': 1000,\n",
    "                  'early_stopping_rounds': 20,\n",
    "                  'num_classes': 3,\n",
    "                  'max_depth': 15,\n",
    "                  'seed': model_scenario.seed\n",
    "                    }"
   ]
  },
  {
   "cell_type": "code",
   "execution_count": 26,
   "metadata": {
    "collapsed": true
   },
   "outputs": [],
   "source": [
    "final_model = lightgbm.LGBMModel(**best_params, **static_params, importance_type = 'gain')"
   ]
  },
  {
   "cell_type": "code",
   "execution_count": 27,
   "metadata": {},
   "outputs": [],
   "source": [
    "eval_set = [(model_scenario.df_tune[list(post_rfe_model.booster_.feature_name())], \n",
    "             model_scenario.df_tune[model_scenario.target])]"
   ]
  },
  {
   "cell_type": "code",
   "execution_count": 28,
   "metadata": {},
   "outputs": [
    {
     "name": "stdout",
     "output_type": "stream",
     "text": [
      "[1]\tvalid_0's multi_logloss: 1.07574\n",
      "Training until validation scores don't improve for 20 rounds\n",
      "[2]\tvalid_0's multi_logloss: 1.07403\n",
      "[3]\tvalid_0's multi_logloss: 1.07253\n",
      "[4]\tvalid_0's multi_logloss: 1.0711\n",
      "[5]\tvalid_0's multi_logloss: 1.0696\n",
      "[6]\tvalid_0's multi_logloss: 1.06816\n",
      "[7]\tvalid_0's multi_logloss: 1.06679\n",
      "[8]\tvalid_0's multi_logloss: 1.06542\n",
      "[9]\tvalid_0's multi_logloss: 1.06412\n",
      "[10]\tvalid_0's multi_logloss: 1.06314\n",
      "[11]\tvalid_0's multi_logloss: 1.06206\n",
      "[12]\tvalid_0's multi_logloss: 1.06103\n",
      "[13]\tvalid_0's multi_logloss: 1.05985\n",
      "[14]\tvalid_0's multi_logloss: 1.05875\n",
      "[15]\tvalid_0's multi_logloss: 1.05795\n",
      "[16]\tvalid_0's multi_logloss: 1.05702\n",
      "[17]\tvalid_0's multi_logloss: 1.05611\n",
      "[18]\tvalid_0's multi_logloss: 1.05525\n",
      "[19]\tvalid_0's multi_logloss: 1.05449\n",
      "[20]\tvalid_0's multi_logloss: 1.05369\n",
      "[21]\tvalid_0's multi_logloss: 1.05274\n",
      "[22]\tvalid_0's multi_logloss: 1.05196\n",
      "[23]\tvalid_0's multi_logloss: 1.05132\n",
      "[24]\tvalid_0's multi_logloss: 1.05055\n",
      "[25]\tvalid_0's multi_logloss: 1.0499\n",
      "[26]\tvalid_0's multi_logloss: 1.04911\n",
      "[27]\tvalid_0's multi_logloss: 1.04849\n",
      "[28]\tvalid_0's multi_logloss: 1.04794\n",
      "[29]\tvalid_0's multi_logloss: 1.04748\n",
      "[30]\tvalid_0's multi_logloss: 1.04681\n",
      "[31]\tvalid_0's multi_logloss: 1.04637\n",
      "[32]\tvalid_0's multi_logloss: 1.04587\n",
      "[33]\tvalid_0's multi_logloss: 1.04535\n",
      "[34]\tvalid_0's multi_logloss: 1.0449\n"
     ]
    },
    {
     "ename": "KeyboardInterrupt",
     "evalue": "",
     "output_type": "error",
     "traceback": [
      "\u001b[0;31m---------------------------------------------------------------------------\u001b[0m",
      "\u001b[0;31mKeyboardInterrupt\u001b[0m                         Traceback (most recent call last)",
      "\u001b[0;32m<ipython-input-28-f820b19aec6d>\u001b[0m in \u001b[0;36m<module>\u001b[0;34m\u001b[0m\n\u001b[1;32m      1\u001b[0m final_model.fit(X = model_scenario.df_train[list(post_rfe_model.booster_.feature_name())],\n\u001b[1;32m      2\u001b[0m                 \u001b[0my\u001b[0m \u001b[0;34m=\u001b[0m \u001b[0mmodel_scenario\u001b[0m\u001b[0;34m.\u001b[0m\u001b[0mdf_train\u001b[0m\u001b[0;34m[\u001b[0m\u001b[0mmodel_scenario\u001b[0m\u001b[0;34m.\u001b[0m\u001b[0mtarget\u001b[0m\u001b[0;34m]\u001b[0m\u001b[0;34m,\u001b[0m\u001b[0;34m\u001b[0m\u001b[0m\n\u001b[0;32m----> 3\u001b[0;31m                 eval_set = eval_set)\n\u001b[0m",
      "\u001b[0;32m~/anaconda3/envs/gbmbuild/lib/python3.7/site-packages/lightgbm/sklearn.py\u001b[0m in \u001b[0;36mfit\u001b[0;34m(self, X, y, sample_weight, init_score, group, eval_set, eval_names, eval_sample_weight, eval_class_weight, eval_init_score, eval_group, eval_metric, early_stopping_rounds, verbose, feature_name, categorical_feature, callbacks)\u001b[0m\n\u001b[1;32m    598\u001b[0m                               \u001b[0mverbose_eval\u001b[0m\u001b[0;34m=\u001b[0m\u001b[0mverbose\u001b[0m\u001b[0;34m,\u001b[0m \u001b[0mfeature_name\u001b[0m\u001b[0;34m=\u001b[0m\u001b[0mfeature_name\u001b[0m\u001b[0;34m,\u001b[0m\u001b[0;34m\u001b[0m\u001b[0m\n\u001b[1;32m    599\u001b[0m                               \u001b[0mcategorical_feature\u001b[0m\u001b[0;34m=\u001b[0m\u001b[0mcategorical_feature\u001b[0m\u001b[0;34m,\u001b[0m\u001b[0;34m\u001b[0m\u001b[0m\n\u001b[0;32m--> 600\u001b[0;31m                               callbacks=callbacks)\n\u001b[0m\u001b[1;32m    601\u001b[0m \u001b[0;34m\u001b[0m\u001b[0m\n\u001b[1;32m    602\u001b[0m         \u001b[0;32mif\u001b[0m \u001b[0mevals_result\u001b[0m\u001b[0;34m:\u001b[0m\u001b[0;34m\u001b[0m\u001b[0m\n",
      "\u001b[0;32m~/anaconda3/envs/gbmbuild/lib/python3.7/site-packages/lightgbm/engine.py\u001b[0m in \u001b[0;36mtrain\u001b[0;34m(params, train_set, num_boost_round, valid_sets, valid_names, fobj, feval, init_model, feature_name, categorical_feature, early_stopping_rounds, evals_result, verbose_eval, learning_rates, keep_training_booster, callbacks)\u001b[0m\n\u001b[1;32m    247\u001b[0m                                     evaluation_result_list=None))\n\u001b[1;32m    248\u001b[0m \u001b[0;34m\u001b[0m\u001b[0m\n\u001b[0;32m--> 249\u001b[0;31m         \u001b[0mbooster\u001b[0m\u001b[0;34m.\u001b[0m\u001b[0mupdate\u001b[0m\u001b[0;34m(\u001b[0m\u001b[0mfobj\u001b[0m\u001b[0;34m=\u001b[0m\u001b[0mfobj\u001b[0m\u001b[0;34m)\u001b[0m\u001b[0;34m\u001b[0m\u001b[0m\n\u001b[0m\u001b[1;32m    250\u001b[0m \u001b[0;34m\u001b[0m\u001b[0m\n\u001b[1;32m    251\u001b[0m         \u001b[0mevaluation_result_list\u001b[0m \u001b[0;34m=\u001b[0m \u001b[0;34m[\u001b[0m\u001b[0;34m]\u001b[0m\u001b[0;34m\u001b[0m\u001b[0m\n",
      "\u001b[0;32m~/anaconda3/envs/gbmbuild/lib/python3.7/site-packages/lightgbm/basic.py\u001b[0m in \u001b[0;36mupdate\u001b[0;34m(self, train_set, fobj)\u001b[0m\n\u001b[1;32m   1974\u001b[0m             _safe_call(_LIB.LGBM_BoosterUpdateOneIter(\n\u001b[1;32m   1975\u001b[0m                 \u001b[0mself\u001b[0m\u001b[0;34m.\u001b[0m\u001b[0mhandle\u001b[0m\u001b[0;34m,\u001b[0m\u001b[0;34m\u001b[0m\u001b[0m\n\u001b[0;32m-> 1976\u001b[0;31m                 ctypes.byref(is_finished)))\n\u001b[0m\u001b[1;32m   1977\u001b[0m             \u001b[0mself\u001b[0m\u001b[0;34m.\u001b[0m\u001b[0m__is_predicted_cur_iter\u001b[0m \u001b[0;34m=\u001b[0m \u001b[0;34m[\u001b[0m\u001b[0;32mFalse\u001b[0m \u001b[0;32mfor\u001b[0m \u001b[0m_\u001b[0m \u001b[0;32min\u001b[0m \u001b[0mrange_\u001b[0m\u001b[0;34m(\u001b[0m\u001b[0mself\u001b[0m\u001b[0;34m.\u001b[0m\u001b[0m__num_dataset\u001b[0m\u001b[0;34m)\u001b[0m\u001b[0;34m]\u001b[0m\u001b[0;34m\u001b[0m\u001b[0m\n\u001b[1;32m   1978\u001b[0m             \u001b[0;32mreturn\u001b[0m \u001b[0mis_finished\u001b[0m\u001b[0;34m.\u001b[0m\u001b[0mvalue\u001b[0m \u001b[0;34m==\u001b[0m \u001b[0;36m1\u001b[0m\u001b[0;34m\u001b[0m\u001b[0m\n",
      "\u001b[0;31mKeyboardInterrupt\u001b[0m: "
     ]
    }
   ],
   "source": [
    "final_model.fit(X = model_scenario.df_train[list(post_rfe_model.booster_.feature_name())],\n",
    "                y = model_scenario.df_train[model_scenario.target],\n",
    "                eval_set = eval_set)"
   ]
  },
  {
   "cell_type": "code",
   "execution_count": null,
   "metadata": {
    "collapsed": true
   },
   "outputs": [],
   "source": []
  }
 ],
 "metadata": {
  "kernelspec": {
   "display_name": "gbmbuild",
   "language": "python",
   "name": "gbmbuild"
  },
  "language_info": {
   "codemirror_mode": {
    "name": "ipython",
    "version": 3
   },
   "file_extension": ".py",
   "mimetype": "text/x-python",
   "name": "python",
   "nbconvert_exporter": "python",
   "pygments_lexer": "ipython3",
   "version": "3.7.0"
  }
 },
 "nbformat": 4,
 "nbformat_minor": 2
}
