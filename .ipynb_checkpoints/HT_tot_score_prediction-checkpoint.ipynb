{
 "cells": [
  {
   "cell_type": "code",
   "execution_count": 1,
   "metadata": {
    "collapsed": true
   },
   "outputs": [],
   "source": [
    "from hyperopt import fmin, STATUS_OK, Trials, hp, tpe, rand\n",
    "import lightgbm\n",
    "import pandas as pd \n",
    "import numpy as np\n",
    "from pathlib import Path\n",
    "import os \n",
    "import sys \n",
    "\n",
    "home_dir = '/Users/Liu'\n",
    "scripts_dir = os.path.join(home_dir, 'NBA_Pro_Line_Analytics/GBM_model_build')\n",
    "sys.path.insert(1, scripts_dir)\n",
    "\n",
    "import model_build_scripts\n",
    "from model_build_scripts import helpers\n",
    "from model_build_scripts.NBA_model_build import NBA_Model_Build"
   ]
  },
  {
   "cell_type": "code",
   "execution_count": 2,
   "metadata": {
    "collapsed": true
   },
   "outputs": [],
   "source": [
    "#Defines the model scenario in ./configs/scenarios_config.yml\n",
    "model_name = \"GBM_tot_score_prediction_model_build_all_features\""
   ]
  },
  {
   "cell_type": "code",
   "execution_count": 3,
   "metadata": {},
   "outputs": [
    {
     "name": "stderr",
     "output_type": "stream",
     "text": [
      "/Users/Liu/NBA_Pro_Line_Analytics/GBM_model_build/model_build_scripts/helpers.py:14: YAMLLoadWarning: calling yaml.load() without Loader=... is deprecated, as the default Loader is unsafe. Please read https://msg.pyyaml.org/load for full details.\n",
      "  config = yaml.load(stream)\n"
     ]
    }
   ],
   "source": [
    "home_dir = Path(home_dir)\n",
    "scenario_dir = home_dir / 'NBA_Pro_Line_Analytics' / 'GBM_model_build' / 'scenarios_config.yml'\n",
    "feature_dir = home_dir / 'NBA_Pro_Line_Analytics' / 'GBM_model_build' / 'features_config.yml'\n",
    "model_scenario = NBA_Model_Build(model_name, \n",
    "                                 feature_yaml = feature_dir, \n",
    "                                 scenario_yaml = scenario_dir)"
   ]
  },
  {
   "cell_type": "code",
   "execution_count": 4,
   "metadata": {
    "collapsed": true
   },
   "outputs": [],
   "source": [
    "model_scenario.load_data()"
   ]
  },
  {
   "cell_type": "code",
   "execution_count": 5,
   "metadata": {
    "collapsed": true
   },
   "outputs": [],
   "source": [
    "initial_params = {'objective': 'regression',\n",
    "                  'num_boost_round': 1000,\n",
    "                  'early_stopping_rounds': 20,\n",
    "                  'max_depth': 15,\n",
    "                  'seed': model_scenario.seed,\n",
    "                  'bagging_freq': 1\n",
    "                 }"
   ]
  },
  {
   "cell_type": "code",
   "execution_count": 13,
   "metadata": {},
   "outputs": [
    {
     "name": "stdout",
     "output_type": "stream",
     "text": [
      "524 features below threshold\n",
      "The following features will be removed:\n",
      "['HT_Num_Wins_L4G', 'Num_Players_1plus_ST_L7G_RT', 'HT_AVG_Win_PTdiff_L10G', 'Num_Players_1plus_BL_L6G_RT', 'RT_cnt_within_5_L10G', 'Num_Players_3plus_ST_L2G_HT', 'Num_Players_3plus_ST_L10G_RT', 'Num_Players_1plus_ST_L10G_RT', 'Num_Players_3plus_ST_L3G_HT', 'HT_cnt_loss_6_plus_L5G', 'HT_num_11_plus_pts_wins_L4G', 'RT_cnt_loss_6_plus_L6G', 'Num_Players_1plus_BL_L2G_RT', 'Num_Players_15plus_TOT_L4G_HT', 'PPG_AVG_L6G_RT', 'Num_Players_3plus_TO_L5G_RT', 'Num_Players_5plus_TO_L6G_RT', 'HT_Num_Losses_L8G', 'BL_LG_RT', 'Num_Players_1plus_TO_L4G_HT', 'Num_Players_2plus_BL_L2G_RT', 'RT_num_11_plus_pts_loss_L9G', 'HT_AVG_PTdiff_L5G', 'Num_Players_3plus_ST_L6G_HT', 'Num_Players_25plus_PPG_L3G_RT', 'TS_PCT_L2G_RT', 'Num_Players_5plus_TO_L9G_RT', 'Num_Players_15plus_APG_LG_HT', 'HT_cnt_loss_6_plus_L7G', 'Num_Players_3plus_BL_L10G_HT', 'APG_AVG_L3G_HT', 'HT_Num_Wins_L8G', 'Num_Players_10plus_APG_L8G_HT', 'BL_AVG_L3G_HT', 'HT_AVG_Win_PTdiff_L2G', 'HT_num_11_plus_pts_wins_L2G', 'Num_Players_2plus_BL_L3G_RT', 'Num_Players_3plus_BL_L4G_RT', 'RT_Num_Losses_L2G', 'RT_num_11_plus_pts_wins_L4G', 'Num_Players_15plus_PPG_L5G_RT', 'RT_num_11_plus_pts_wins_L2G', 'Num_Players_1plus_TO_L4G_RT', 'Num_Players_5plus_APG_L3G_HT', 'HT_AVG_PTdiff_L8G', 'Num_Players_3plus_ST_L4G_RT', 'RT_cnt_loss_6_plus_L2G', 'Num_Players_2plus_ST_L2G_HT', 'Num_Players_15plus_PPG_L9G_RT', 'Num_Players_10plus_APG_L10G_HT', 'Num_Players_3plus_ST_LG_HT', 'HT_cnt_wins_6_plus_L5G', 'RT_Num_Losses_L9G', 'Num_Players_3plus_BL_L6G_RT', 'RT_cnt_within_5_L9G', 'Num_Players_3plus_ST_L5G_HT', 'Num_Players_5plus_APG_L5G_RT', 'Num_Players_25plus_PPG_L5G_RT', 'HT_num_11_plus_pts_wins_L3G', 'Num_Players_10plus_TOT_L8G_HT', 'Num_Players_10plus_APG_L6G_RT', 'HT_cnt_loss_6_plus_L8G', 'HT_cnt_within_5_L3G', 'RT_num_11_plus_pts_wins_L9G', 'FG_PCT_L9G_HT', 'Num_Players_2plus_ST_L10G_HT', 'Num_Players_10plus_TOT_L4G_RT', 'Num_Players_20plus_PPG_L8G_HT', 'HT_Loss_LG', 'Num_Players_15plus_PPG_L6G_HT', 'Num_Players_30plus_PPG_L4G_RT', 'RT_cnt_wins_6_plus_L9G', 'Num_Players_15plus_APG_L10G_HT', 'Num_Players_3plus_TO_L9G_HT', 'Num_Players_3plus_ST_L8G_HT', 'Num_Players_3plus_ST_L9G_RT', 'Num_Players_30plus_PPG_L9G_RT', 'Num_Players_3plus_TO_L5G_HT', 'Num_Players_15plus_TOT_L7G_RT', 'Num_Players_1plus_ST_L9G_RT', 'BL_LG_HT', 'RT_cnt_within_5_L3G', 'Num_Players_15plus_APG_L5G_RT', 'Num_Players_1plus_TO_L6G_HT', 'Num_Players_3plus_TO_L7G_HT', 'Num_Players_15plus_APG_L2G_HT', 'Num_Players_2plus_ST_L7G_RT', 'ST_AVG_L4G_HT', 'Num_Players_2plus_ST_LG_RT', 'HT_cnt_loss_6_plus_L3G', 'Num_Players_15plus_TOT_LG_RT', 'HT_AVG_Win_PTdiff_L3G', 'RT_num_11_plus_pts_loss_L2G', 'HT_cnt_loss_6_plus_L9G', 'BL_AVG_L8G_HT', 'Num_Players_30plus_PPG_L2G_RT', 'RT_cnt_within_5_L4G', 'Num_Players_15plus_TOT_L7G_HT', 'PPG_AVG_L5G_HT', 'Num_Players_1plus_ST_L2G_HT', 'Num_Players_10plus_APG_L10G_RT', 'Num_Players_5plus_TOT_L5G_RT', 'Num_Players_2plus_BL_L5G_RT', 'Num_Players_10plus_TOT_L5G_HT', 'Num_Players_3plus_BL_L2G_RT', 'Num_Players_30plus_PPG_L7G_HT', 'Num_Players_10plus_APG_L6G_HT', 'HT_AVG_PTdiff_L6G', 'HT_num_11_plus_pts_wins_L6G', 'HT_cnt_loss_6_plus_L2G', 'Num_Players_1plus_ST_L8G_HT', 'HT_cnt_within_5_L10G', 'Num_Players_1plus_ST_L6G_HT', 'Num_Players_15plus_PPG_L9G_HT', 'RT_num_11_plus_pts_wins_L8G', 'RT_cnt_loss_6_plus_L5G', 'Num_Players_2plus_BL_L6G_RT', 'Num_Players_10plus_TOT_L7G_RT', 'Num_Players_25plus_PPG_L5G_HT', 'Num_Players_15plus_PPG_L3G_HT', 'Num_Players_2plus_ST_L6G_HT', 'Num_Players_15plus_PPG_L7G_RT', 'RT_num_11_plus_pts_wins_L10G', 'Num_Players_3plus_BL_L3G_RT', 'HT_num_11_plus_pts_loss_L2G', 'Num_Players_15plus_PPG_L8G_RT', 'Num_Players_15plus_PPG_L8G_HT', 'Num_Players_30plus_PPG_L6G_HT', 'HT_cnt_loss_6_plus_LG', 'Num_Players_15plus_TOT_L3G_RT', 'Num_Players_5plus_APG_L8G_HT', 'Num_Players_3plus_TO_L2G_RT', 'PPG_AVG_L9G_HT', 'ST_AVG_L9G_HT', 'Num_Players_20plus_PPG_L7G_HT', 'FG_PCT_L9G_RT', 'RT_num_11_plus_pts_loss_L7G', 'Num_Players_15plus_TOT_L10G_HT', 'HT_cnt_within_5_L4G', 'RT_Num_Losses_L4G', 'Num_Players_25plus_PPG_L10G_HT', 'Num_Players_3plus_ST_LG_RT', 'Num_Players_5plus_TO_L2G_HT', 'HT_Num_Wins_L2G', 'Num_Players_3plus_TO_L10G_HT', 'Num_Players_15plus_APG_L8G_HT', 'Num_Players_5plus_APG_L6G_HT', 'Num_Players_5plus_TO_LG_HT', 'Num_Players_25plus_PPG_L6G_RT', 'Num_Players_3plus_BL_L7G_HT', 'Num_Players_1plus_TO_L3G_HT', 'Num_Players_30plus_PPG_LG_RT', 'Num_Players_15plus_APG_L5G_HT', 'HT_cnt_wins_6_plus_L6G', 'Num_Players_30plus_PPG_L4G_HT', 'FG_PCT_L8G_HT', 'Num_Players_20plus_PPG_L8G_RT', 'Num_Players_3plus_BL_L10G_RT', 'Num_Players_10plus_TOT_LG_HT', 'RT_Num_Wins_L2G', 'HT_cnt_loss_6_plus_L10G', 'Num_Players_3plus_BL_L5G_HT', 'Num_Players_10plus_TOT_LG_RT', 'DEFF_L10G_HT', 'Num_Players_1plus_ST_L4G_HT', 'RT_AVG_Win_PTdiff_L2G', 'HT_AVG_Loss_PTdiff_L5G', 'Num_Players_1plus_ST_L10G_HT', 'RT_AVG_Loss_PTdiff_LG', 'HT_Num_Wins_L3G', 'PACE_L5G_RT', 'RT_Loss_LG', 'Num_Players_5plus_APG_L2G_RT', 'HT_num_11_plus_pts_wins_LG', 'Num_Players_3plus_TO_L8G_RT', 'Num_Players_10plus_APG_L2G_HT', 'Num_Players_5plus_TOT_L2G_RT', 'Num_Players_1plus_TO_L8G_HT', 'Num_Players_5plus_TO_L4G_HT', 'HT_AVG_Win_PTdiff_L9G', 'Num_Players_1plus_ST_L4G_RT', 'APG_AVG_L10G_HT', 'Num_Players_3plus_TO_L6G_HT', 'POSS_L8G_HT', 'RT_cnt_loss_6_plus_L3G', 'Num_Players_2plus_ST_L8G_RT', 'HT_cnt_loss_6_plus_L4G', 'Num_Players_1plus_BL_L10G_HT', 'Num_Players_3plus_BL_LG_RT', 'Num_Players_15plus_APG_L2G_RT', 'Num_Players_1plus_TO_L10G_HT', 'Num_Players_20plus_PPG_L9G_HT', 'HT_AVG_Win_PTdiff_L4G', 'Num_Players_3plus_BL_L8G_HT', '3PT_PCT_L4G_HT', 'Num_Players_15plus_PPG_L2G_RT', 'RT_AVG_Win_PTdiff_L4G', 'Num_Players_3plus_TO_L10G_RT', 'Num_Players_10plus_APG_L4G_HT', 'Num_Players_1plus_BL_L8G_HT', 'Num_Players_30plus_PPG_L8G_HT', 'Num_Players_15plus_APG_L6G_HT', 'Num_Players_30plus_PPG_L10G_HT', 'HT_Num_Wins_L6G', 'Num_Players_15plus_APG_L4G_HT', 'Num_Players_10plus_APG_L3G_RT', 'HT_cnt_within_5_L6G', 'BL_AVG_L7G_HT', 'RT_AVG_Win_PTdiff_L10G', 'Num_Players_20plus_PPG_L2G_HT', 'Num_Players_3plus_BL_L8G_RT', 'Num_Players_15plus_TOT_L2G_HT', 'HT_AVG_Win_PTdiff_L5G', 'RT_Num_Losses_L8G', 'Num_Players_3plus_ST_L3G_RT', 'HT_Num_Losses_L9G', 'TOT_AVG_L5G_RT', 'HT_cnt_within_5_LG', 'Num_Players_5plus_TO_L3G_HT', 'RT_Num_Wins_L8G', 'Num_Players_10plus_APG_L2G_RT', 'HT_Num_Losses_L3G', 'HT_AVG_PTdiff_L7G', 'HT_cnt_wins_6_plus_L3G', 'Num_Players_15plus_APG_L8G_RT', 'RT_AVG_Loss_PTdiff_L9G', 'PPG_AVG_L3G_HT', 'Num_Players_15plus_TOT_L9G_RT', 'RT_AVG_PTdiff_L7G', 'Num_Players_3plus_ST_L7G_RT', 'Num_Players_5plus_TOT_L2G_HT', 'HT_Num_Losses_L10G', 'RT_Num_Losses_L10G', 'Num_Players_10plus_APG_L5G_RT', 'Num_Players_5plus_TO_L8G_RT', 'Num_Players_5plus_TO_LG_RT', 'RT_Num_Wins_L7G', 'Num_Players_30plus_PPG_L9G_HT', 'Num_Players_15plus_APG_L4G_RT', 'Num_Players_15plus_TOT_L6G_HT', 'HT_AVG_Loss_PTdiff_L3G', 'Num_Players_15plus_APG_LG_RT', 'Num_Players_5plus_APG_LG_RT', 'Num_Players_5plus_TOT_L6G_HT', 'PACE_L9G_HT', 'Num_Players_20plus_PPG_L5G_HT', 'Num_Players_2plus_BL_L7G_HT', 'PPG_AVG_L8G_HT', 'RT_cnt_loss_6_plus_L4G', 'Num_Players_10plus_TOT_L9G_HT', 'Num_Players_25plus_PPG_L9G_HT', 'HT_Num_Losses_L6G', 'RT_cnt_wins_6_plus_L6G', 'Num_Players_15plus_TOT_L8G_RT', 'TOT_AVG_L6G_HT', 'Num_Players_5plus_TO_L3G_RT', 'Num_Players_30plus_PPG_L7G_RT', 'Num_Players_3plus_BL_L9G_HT', 'Num_Players_1plus_BL_L6G_HT', 'Num_Players_25plus_PPG_L9G_RT', 'RT_AVG_Win_PTdiff_L5G', 'Num_Players_25plus_PPG_L7G_RT', 'Num_Players_1plus_BL_L5G_HT', 'Num_Players_15plus_TOT_LG_HT', 'APG_AVG_L7G_HT', '3PT_PCT_L9G_RT', 'Num_Players_5plus_APG_L5G_HT', 'Num_Players_2plus_ST_L5G_HT', 'RT_AVG_Win_PTdiff_L7G', 'Num_Players_5plus_TO_L7G_HT', 'APG_AVG_L2G_RT', 'Num_Players_3plus_TO_L2G_HT', 'RT_AVG_Win_PTdiff_L3G', 'RT_AVG_Loss_PTdiff_L10G', 'Num_Players_2plus_ST_L4G_RT', 'POSS_LG_RT', 'RT_Num_Losses_L7G', 'HT_AVG_Loss_PTdiff_L8G', 'RT_cnt_wins_6_plus_L5G', 'Num_Players_15plus_APG_L7G_RT', 'Num_Players_15plus_APG_L6G_RT', 'Num_Players_25plus_PPG_L3G_HT', 'RT_AVG_Loss_PTdiff_L6G', 'RT_AVG_Loss_PTdiff_L7G', 'Num_Players_15plus_PPG_L7G_HT', 'Num_Players_2plus_ST_L6G_RT', 'Num_Players_1plus_TO_L9G_RT', 'RT_cnt_wins_6_plus_L8G', 'Num_Players_30plus_PPG_L2G_HT', 'RT_Win_LG', 'Num_Players_3plus_ST_L6G_RT', 'APG_AVG_L5G_RT', 'Num_Players_1plus_TO_L3G_RT', 'Num_Players_25plus_PPG_L7G_HT', 'BL_AVG_L4G_HT', 'HT_AVG_Loss_PTdiff_LG', 'Num_Players_15plus_APG_L9G_RT', 'Num_Players_5plus_TOT_L7G_HT', 'Num_Players_2plus_ST_L8G_HT', 'RT_cnt_within_5_L7G', 'RT_AVG_Loss_PTdiff_L8G', 'Num_Players_1plus_ST_LG_RT', 'RT_AVG_Loss_PTdiff_L5G', 'Num_Players_10plus_TOT_L6G_RT', 'POSS_L5G_HT', 'Num_Players_10plus_APG_L9G_RT', 'Num_Players_5plus_TO_L8G_HT', 'Num_Players_1plus_TO_L7G_HT', 'RT_num_11_plus_pts_loss_L3G', 'Num_Players_5plus_APG_L8G_RT', 'Num_Players_2plus_BL_LG_HT', 'Num_Players_1plus_TO_L5G_HT', 'Num_Players_20plus_PPG_L4G_RT', 'HT_num_11_plus_pts_wins_L7G', 'PPG_LG_RT', 'HT_AVG_Win_PTdiff_L6G', 'RT_cnt_within_5_L8G', 'HT_AVG_Loss_PTdiff_L7G', 'Num_Players_5plus_TOT_L8G_HT', 'Num_Players_10plus_TOT_L9G_RT', 'Num_Players_2plus_BL_L10G_RT', 'HT_AVG_Win_PTdiff_L8G', 'RT_cnt_wins_6_plus_L3G', 'Num_Players_10plus_APG_L5G_HT', 'Num_Players_2plus_BL_L9G_RT', 'Num_Players_2plus_ST_L9G_RT', 'Num_Players_10plus_APG_L9G_HT', 'HT_num_11_plus_pts_loss_L10G', 'Num_Players_3plus_TO_L7G_RT', 'HT_num_11_plus_pts_wins_L5G', 'Num_Players_15plus_APG_L7G_HT', 'Num_Players_3plus_ST_L8G_RT', 'Num_Players_20plus_PPG_L5G_RT', 'Num_Players_15plus_TOT_L5G_RT', 'Num_Players_2plus_BL_L8G_HT', 'Num_Players_3plus_BL_L2G_HT', 'Num_Players_1plus_BL_LG_HT', 'Num_Players_30plus_PPG_L6G_RT', 'Num_Players_15plus_TOT_L6G_RT', 'RT_Num_Wins_L10G', 'Num_Players_25plus_PPG_L8G_RT', 'HT_Num_Losses_L5G', 'RT_AVG_Win_PTdiff_L8G', 'Num_Players_25plus_PPG_L8G_HT', 'Num_Players_10plus_APG_L7G_HT', 'HT_cnt_wins_6_plus_L4G', 'TOT_AVG_L3G_RT', 'Num_Players_3plus_ST_L4G_HT', 'Num_Players_3plus_TO_L3G_HT', 'HT_cnt_wins_6_plus_L8G', 'HT_num_11_plus_pts_loss_L8G', 'RT_num_11_plus_pts_wins_LG', 'HT_cnt_wins_6_plus_LG', 'Num_Players_15plus_TOT_L9G_HT', 'RT_cnt_within_5_LG', 'RT_cnt_loss_6_plus_L7G', 'RT_Num_Wins_L9G', 'RT_cnt_within_5_L6G', 'Num_Players_2plus_BL_L3G_HT', 'Num_Players_30plus_PPG_L5G_RT', 'RT_AVG_PTdiff_L6G', 'Num_Players_3plus_BL_L7G_RT', 'Num_Players_2plus_BL_L7G_RT', 'Num_Players_2plus_BL_L4G_RT', 'Num_Players_30plus_PPG_L10G_RT', 'TOT_AVG_L2G_RT', 'RT_cnt_loss_6_plus_LG', 'POSS_L8G_RT', 'Num_Players_10plus_APG_L8G_RT', 'RT_num_11_plus_pts_wins_L6G', 'Num_Players_2plus_BL_L6G_HT', 'Num_Players_5plus_TOT_L5G_HT', 'BL_AVG_L3G_RT', 'HT_cnt_within_5_L7G', 'Num_Players_5plus_TO_L2G_RT', 'Num_Players_3plus_BL_L4G_HT', 'Num_Players_3plus_TO_L8G_HT', 'Num_Players_2plus_ST_L5G_RT', 'Num_Players_20plus_PPG_L10G_HT', 'Num_Players_10plus_TOT_L2G_RT', 'Num_Players_20plus_PPG_L6G_HT', 'Num_Players_15plus_PPG_L10G_HT', 'HT_cnt_wins_6_plus_L7G', 'Num_Players_15plus_TOT_L10G_RT', 'Num_Players_25plus_PPG_L2G_RT', 'Num_Players_3plus_ST_L7G_HT', 'RT_AVG_Loss_PTdiff_L3G', 'RT_cnt_loss_6_plus_L9G', 'Num_Players_10plus_TOT_L3G_RT', 'RT_Num_Wins_L6G', 'Num_Players_5plus_TO_L7G_RT', 'RT_Num_Losses_L3G', 'RT_AVG_Win_PTdiff_L9G', 'HT_Num_Wins_L5G', 'HT_Win_LG', 'Num_Players_15plus_PPG_L4G_RT', 'Num_Players_25plus_PPG_L2G_HT', 'Num_Players_5plus_TO_L10G_RT', 'HT_num_11_plus_pts_loss_L7G', 'Num_Players_15plus_TOT_L4G_RT', 'HT_AVG_Win_PTdiff_L7G', 'Num_Players_5plus_TOT_L4G_RT', 'RT_AVG_Win_PTdiff_L6G', 'PPG_AVG_L6G_HT', 'Num_Players_5plus_TOT_L6G_RT', 'TOT_AVG_L9G_HT', 'Num_Players_5plus_TO_L4G_RT', 'HT_Num_Losses_L4G', 'Num_Players_2plus_BL_L8G_RT', 'Num_Players_2plus_BL_L2G_HT', 'Num_Players_3plus_BL_L6G_HT', 'HT_AVG_Loss_PTdiff_L6G', 'RT_cnt_loss_6_plus_L8G', 'Num_Players_10plus_TOT_L10G_HT', 'Num_Players_10plus_APG_LG_HT', 'Num_Players_30plus_PPG_L5G_HT', 'HT_num_11_plus_pts_loss_L4G', 'Num_Players_15plus_TOT_L3G_HT', 'HT_Num_Losses_L2G', 'ST_LG_HT', 'RT_num_11_plus_pts_wins_L7G', 'Num_Players_25plus_PPG_L6G_HT', 'Num_Players_1plus_TO_L8G_RT', 'Num_Players_3plus_BL_L3G_HT', 'Num_Players_5plus_TOT_L8G_RT', 'Num_Players_10plus_TOT_L4G_HT', 'Num_Players_1plus_TO_L9G_HT', 'OEFF_L10G_HT', 'HT_AVG_Loss_PTdiff_L9G', 'HT_Num_Losses_L7G', 'RT_cnt_wins_6_plus_L2G', 'Num_Players_1plus_BL_L10G_RT', 'Num_Players_1plus_BL_L9G_RT', 'RT_num_11_plus_pts_loss_L8G', 'TOT_AVG_L9G_RT', 'RT_cnt_wins_6_plus_L7G', 'HT_cnt_wins_6_plus_L2G', 'Num_Players_2plus_ST_L3G_RT', 'Num_Players_15plus_APG_L9G_HT', 'HT_num_11_plus_pts_loss_L6G', 'Num_Players_20plus_PPG_L10G_RT', 'Num_Players_25plus_PPG_LG_HT', 'RT_Num_Wins_L5G', 'Num_Players_3plus_ST_L5G_RT', 'Num_Players_10plus_TOT_L10G_RT', 'Num_Players_10plus_TOT_L5G_RT', 'Num_Players_1plus_ST_LG_HT', 'APG_LG_RT', 'Num_Players_15plus_PPG_L6G_RT', 'Num_Players_5plus_TO_L5G_RT', 'RT_cnt_wins_6_plus_LG', 'Num_Players_3plus_BL_L9G_RT', 'HT_AVG_Loss_PTdiff_L4G', 'BL_AVG_L5G_HT', 'RT_num_11_plus_pts_loss_L6G', 'Num_Players_5plus_APG_L10G_HT', 'Num_Players_3plus_ST_L9G_HT', 'Num_Players_5plus_APG_L7G_HT', 'Num_Players_1plus_BL_L7G_HT', 'Num_Players_5plus_TO_L6G_HT', 'Num_Players_2plus_ST_LG_HT', 'Num_Players_2plus_ST_L9G_HT', 'Num_Players_25plus_PPG_L4G_HT', 'Num_Players_5plus_APG_L4G_HT', 'Num_Players_20plus_PPG_L7G_RT', 'Num_Players_1plus_ST_L5G_RT', 'Num_Players_5plus_TO_L9G_HT', 'RT_Num_Losses_L5G', 'Num_Players_3plus_BL_LG_HT', 'FG_PCT_L6G_HT', 'HT_AVG_Loss_PTdiff_L2G', 'RT_AVG_Win_PTdiff_LG', 'Num_Players_10plus_APG_L4G_RT', 'Num_Players_10plus_TOT_L2G_HT', 'Num_Players_3plus_TO_L4G_HT', 'Num_Players_5plus_TO_L10G_HT', 'RT_AVG_Loss_PTdiff_L4G', 'Num_Players_20plus_PPG_L4G_HT', 'PPG_AVG_L3G_RT', 'Num_Players_15plus_TOT_L8G_HT', 'RT_cnt_wins_6_plus_L10G', 'HT_num_11_plus_pts_loss_L9G', 'HT_AVG_Loss_PTdiff_L10G', 'Num_Players_2plus_ST_L7G_HT', 'Num_Players_10plus_APG_L7G_RT', 'Num_Players_30plus_PPG_LG_HT', 'Num_Players_15plus_APG_L3G_RT', 'Num_Players_3plus_ST_L10G_HT', 'Num_Players_2plus_ST_L3G_HT', 'Num_Players_2plus_BL_LG_RT', 'Num_Players_15plus_PPG_L10G_RT', 'Num_Players_5plus_APG_L9G_HT', 'HT_AVG_PTdiff_L10G', 'Num_Players_5plus_TO_L5G_HT', 'Num_Players_15plus_APG_L3G_HT', 'BL_AVG_L4G_RT', 'Num_Players_30plus_PPG_L3G_RT', 'Num_Players_5plus_APG_L2G_HT', 'Num_Players_5plus_TOT_L7G_RT', 'Num_Players_15plus_APG_L10G_RT', 'HT_cnt_within_5_L8G', 'RT_AVG_Loss_PTdiff_L2G', 'RT_Num_Wins_L4G', 'Num_Players_1plus_ST_L8G_RT', 'Num_Players_1plus_ST_L7G_HT', 'RT_num_11_plus_pts_wins_L5G', 'RT_cnt_wins_6_plus_L4G', 'HT_num_11_plus_pts_loss_LG', 'RT_num_11_plus_pts_wins_L3G', 'Num_Players_5plus_APG_L4G_RT', 'Num_Players_15plus_TOT_L5G_HT', 'Num_Players_1plus_BL_L5G_RT', 'Num_Players_10plus_APG_LG_RT', 'RT_num_11_plus_pts_loss_L4G', 'RT_num_11_plus_pts_loss_LG', 'Num_Players_2plus_ST_L10G_RT', 'Num_Players_2plus_ST_L4G_HT', 'Num_Players_1plus_TO_L2G_RT', 'HT_Num_Wins_L10G', 'HT_AVG_PTdiff_L3G', 'Num_Players_20plus_PPG_LG_HT', 'HT_cnt_loss_6_plus_L6G', 'HT_AVG_Win_PTdiff_LG', 'Num_Players_1plus_BL_LG_RT']\n"
     ]
    }
   ],
   "source": [
    "#Runs Recursive Feature Elimination to Remove all features of 0 Importance\n",
    "post_rfe_model, var_importance  = model_scenario.run_rfe(model_params = initial_params, \n",
    "                                                         target = model_scenario.target, \n",
    "                                                         X_vars= model_scenario.X_vars,\n",
    "                                                         model_type = 'regressor')"
   ]
  },
  {
   "cell_type": "code",
   "execution_count": 14,
   "metadata": {
    "collapsed": true
   },
   "outputs": [],
   "source": [
    "initial_params['bagging_freq'] = 1"
   ]
  },
  {
   "cell_type": "code",
   "execution_count": 15,
   "metadata": {},
   "outputs": [
    {
     "name": "stdout",
     "output_type": "stream",
     "text": [
      "100%|██████████| 200/200 [45:55<00:00, 13.78s/trial, best loss: -0.0]  \n"
     ]
    }
   ],
   "source": [
    "#Runs Hyperparameter tuning (Bayesian Optimization) - current scenario set to complete 200 rounds \n",
    "best_params, hyperparam_obj = model_scenario.run_hyperopt(model_scenario.hyperopt_param_space, \n",
    "                                                          model_scenario.X_vars, \n",
    "                                                          model_params = initial_params, \n",
    "                                                          fmin_max_evals = model_scenario.fmin_max_evals,\n",
    "                                                          model_type = 'regressor')"
   ]
  },
  {
   "cell_type": "code",
   "execution_count": 17,
   "metadata": {},
   "outputs": [
    {
     "data": {
      "text/plain": [
       "{'colsample_bytree': 0.6489325172213725,\n",
       " 'learning_rate': 0.03265285941393413,\n",
       " 'min_data_in_leaf': 100.0,\n",
       " 'num_leaves': 49.0,\n",
       " 'reg_alpha': 0.17948888280944775,\n",
       " 'reg_lambda': 0.11267775892310361,\n",
       " 'subsample': 0.9}"
      ]
     },
     "execution_count": 17,
     "metadata": {},
     "output_type": "execute_result"
    }
   ],
   "source": [
    "#Runs Hyperparameter tuning (Bayesian Optimization) - current scenario set to complete 200 rounds \n",
    "best_params"
   ]
  },
  {
   "cell_type": "code",
   "execution_count": 18,
   "metadata": {
    "collapsed": true
   },
   "outputs": [],
   "source": [
    "best_params['num_leaves'] = int(best_params['num_leaves'])\n",
    "best_params['min_data_in_leaf'] = int(best_params['min_data_in_leaf'])"
   ]
  },
  {
   "cell_type": "code",
   "execution_count": 19,
   "metadata": {
    "collapsed": true
   },
   "outputs": [],
   "source": [
    "static_params =  {'objective': 'regression',\n",
    "                  'num_boost_round': 1000,\n",
    "                  'early_stopping_rounds': 25,\n",
    "                  'max_depth': 15,\n",
    "                  'seed': model_scenario.seed,\n",
    "                  'bagging_freq': 1\n",
    "                 }"
   ]
  },
  {
   "cell_type": "code",
   "execution_count": 20,
   "metadata": {
    "collapsed": true
   },
   "outputs": [],
   "source": [
    "final_model = lightgbm.LGBMRegressor(**best_params, **static_params, importance_type = 'gain')"
   ]
  },
  {
   "cell_type": "code",
   "execution_count": 21,
   "metadata": {
    "collapsed": true
   },
   "outputs": [],
   "source": [
    "eval_set = [(model_scenario.df_tune[list(post_rfe_model.booster_.feature_name())], \n",
    "             model_scenario.df_tune[model_scenario.target])]"
   ]
  },
  {
   "cell_type": "code",
   "execution_count": 23,
   "metadata": {},
   "outputs": [
    {
     "data": {
      "text/plain": [
       "LGBMRegressor(bagging_freq=1, colsample_bytree=0.6489325172213725,\n",
       "              early_stopping_rounds=25, importance_type='gain',\n",
       "              learning_rate=0.03265285941393413, max_depth=15,\n",
       "              min_data_in_leaf=100, num_boost_round=1000, num_leaves=49,\n",
       "              objective='regression', reg_alpha=0.17948888280944775,\n",
       "              reg_lambda=0.11267775892310361, seed=2454371, subsample=0.9)"
      ]
     },
     "execution_count": 23,
     "metadata": {},
     "output_type": "execute_result"
    }
   ],
   "source": [
    "final_model.fit(X = model_scenario.df_train[list(post_rfe_model.booster_.feature_name())],\n",
    "                y = model_scenario.df_train[model_scenario.target],\n",
    "                eval_set = eval_set,\n",
    "                verbose = False)"
   ]
  },
  {
   "cell_type": "code",
   "execution_count": 24,
   "metadata": {
    "collapsed": true
   },
   "outputs": [],
   "source": [
    "model_predictions = final_model.predict(model_scenario.df_validate[post_rfe_model.booster_.feature_name()])"
   ]
  },
  {
   "cell_type": "code",
   "execution_count": 138,
   "metadata": {
    "collapsed": true
   },
   "outputs": [],
   "source": [
    "d = {\n",
    "    'TEAM_HT' : model_scenario.df_validate['TEAM_HT'],\n",
    "    'Final_Score_HT' : model_scenario.df_validate['Final_Score_HT'],\n",
    "    'TEAM_RT' : model_scenario.df_validate['TEAM_RT'],\n",
    "    'Final_Score_RT': model_scenario.df_validate['Final_Score_RT'],\n",
    "    'outcome': model_scenario.df_validate['model_scenario.target'],\n",
    "    'ht_closing_spread': model_scenario.df_validate['CLOSING SPREAD_HT'],\n",
    "    'model_prediction': model_predictions\n",
    "}"
   ]
  },
  {
   "cell_type": "code",
   "execution_count": 139,
   "metadata": {
    "collapsed": true
   },
   "outputs": [],
   "source": [
    "model_prediction_df = pd.DataFrame(data = d)"
   ]
  },
  {
   "cell_type": "code",
   "execution_count": 142,
   "metadata": {
    "collapsed": true
   },
   "outputs": [],
   "source": [
    "model_prediction_df['model_predict'] = model_prediction_df['model_prediction'].apply(lambda x: 1 if x > 0.49 else 0)"
   ]
  },
  {
   "cell_type": "code",
   "execution_count": 143,
   "metadata": {},
   "outputs": [
    {
     "data": {
      "text/plain": [
       "True     660\n",
       "False    652\n",
       "dtype: int64"
      ]
     },
     "execution_count": 143,
     "metadata": {},
     "output_type": "execute_result"
    }
   ],
   "source": [
    "(model_prediction_df['model_predict']  == model_prediction_df['outcome']).value_counts()"
   ]
  },
  {
   "cell_type": "code",
   "execution_count": null,
   "metadata": {
    "collapsed": true
   },
   "outputs": [],
   "source": []
  }
 ],
 "metadata": {
  "kernelspec": {
   "display_name": "gbmbuild",
   "language": "python",
   "name": "gbmbuild"
  },
  "language_info": {
   "codemirror_mode": {
    "name": "ipython",
    "version": 3
   },
   "file_extension": ".py",
   "mimetype": "text/x-python",
   "name": "python",
   "nbconvert_exporter": "python",
   "pygments_lexer": "ipython3",
   "version": "3.7.0"
  }
 },
 "nbformat": 4,
 "nbformat_minor": 2
}
