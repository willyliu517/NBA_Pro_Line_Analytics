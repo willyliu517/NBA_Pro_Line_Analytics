{
 "cells": [
  {
   "cell_type": "code",
   "execution_count": 33,
   "metadata": {
    "collapsed": true
   },
   "outputs": [],
   "source": [
    "from hyperopt import fmin, STATUS_OK, Trials, hp, tpe, rand\n",
    "import lightgbm\n",
    "import pandas as pd \n",
    "import numpy as np\n",
    "from pathlib import Path\n",
    "import os \n",
    "import sys \n",
    "\n",
    "home_dir = '/Users/Liu'\n",
    "scripts_dir = os.path.join(home_dir, 'NBA_Pro_Line_Analytics/GBM_model_build')\n",
    "sys.path.insert(1, scripts_dir)\n",
    "\n",
    "import model_build_scripts\n",
    "from model_build_scripts import helpers\n",
    "from model_build_scripts.NBA_model_build import NBA_Model_Build"
   ]
  },
  {
   "cell_type": "code",
   "execution_count": 34,
   "metadata": {
    "collapsed": true
   },
   "outputs": [],
   "source": [
    "#Defines the model scenario in ./configs/scenarios_config.yml\n",
    "model_name = \"GBM_ht_cover_spread_outcome_model_build_all_features\""
   ]
  },
  {
   "cell_type": "code",
   "execution_count": 35,
   "metadata": {},
   "outputs": [
    {
     "name": "stderr",
     "output_type": "stream",
     "text": [
      "/Users/Liu/NBA_Pro_Line_Analytics/GBM_model_build/model_build_scripts/helpers.py:14: YAMLLoadWarning: calling yaml.load() without Loader=... is deprecated, as the default Loader is unsafe. Please read https://msg.pyyaml.org/load for full details.\n",
      "  config = yaml.load(stream)\n"
     ]
    }
   ],
   "source": [
    "home_dir = Path(home_dir)\n",
    "scenario_dir = home_dir / 'NBA_Pro_Line_Analytics' / 'GBM_model_build' / 'scenarios_config.yml'\n",
    "feature_dir = home_dir / 'NBA_Pro_Line_Analytics' / 'GBM_model_build' / 'features_config.yml'\n",
    "model_scenario = NBA_Model_Build(model_name, \n",
    "                                 feature_yaml = feature_dir, \n",
    "                                 scenario_yaml = scenario_dir)"
   ]
  },
  {
   "cell_type": "code",
   "execution_count": 36,
   "metadata": {
    "collapsed": true
   },
   "outputs": [],
   "source": [
    "model_scenario.load_data()"
   ]
  },
  {
   "cell_type": "code",
   "execution_count": 103,
   "metadata": {},
   "outputs": [],
   "source": [
    "initial_params = {'objective': 'binary',\n",
    "                  'metric': 'auc',\n",
    "                  'num_boost_round': 1000,\n",
    "                  'early_stopping_rounds': 20,\n",
    "                  'max_depth': 15,\n",
    "                  'seed': model_scenario.seed,\n",
    "                  'bagging_freq': 1\n",
    "                 }"
   ]
  },
  {
   "cell_type": "code",
   "execution_count": 104,
   "metadata": {},
   "outputs": [
    {
     "name": "stdout",
     "output_type": "stream",
     "text": [
      "761 features below threshold\n",
      "The following features will be removed:\n",
      "['Num_Players_15plus_APG_L3G_HT', 'Num_Players_15plus_PPG_L3G_RT', 'RT_cnt_within_5_L8G', 'Num_Players_10plus_TOT_LG_RT', 'HT_Num_Losses_L4G', 'TS_PCT_L10G_RT', 'DEFF_L6G_RT', 'Num_Players_3plus_TO_L4G_HT', 'RT_cnt_wins_6_plus_L7G', 'Num_Players_1plus_BL_L2G_RT', 'Num_Players_30plus_PPG_L6G_HT', 'RT_num_11_plus_pts_loss_LG', 'Num_Players_10plus_TOT_L6G_HT', 'Num_Players_3plus_BL_L6G_HT', 'POSS_LG_HT', 'FT_PCT_L2G_HT', 'RT_cnt_wins_6_plus_L6G', 'Num_Players_3plus_ST_L9G_RT', 'Num_Players_5plus_APG_L8G_HT', 'Num_Players_5plus_APG_L7G_RT', 'TS_PCT_LG_HT', 'Num_Players_15plus_PPG_L6G_HT', 'POSS_L10G_RT', 'HT_num_11_plus_pts_wins_L9G', 'TS_PCT_L6G_RT', 'HT_num_11_plus_pts_wins_L10G', 'PACE_L7G_RT', 'Num_Players_2plus_ST_L5G_HT', '3PT_PCT_L5G_HT', 'RT_num_11_plus_pts_wins_L9G', 'Num_Players_2plus_ST_LG_HT', 'RT_cnt_wins_6_plus_L2G', 'Num_Players_3plus_ST_L4G_RT', 'Num_Players_10plus_TOT_L9G_RT', 'PPG_AVG_L8G_HT', 'TOT_AVG_L5G_RT', 'Num_Players_30plus_PPG_L6G_RT', 'Num_Players_25plus_PPG_L7G_RT', 'Num_Players_3plus_TO_L9G_RT', 'Num_Players_1plus_ST_L7G_RT', 'Num_Players_15plus_APG_L3G_RT', 'Num_Players_25plus_PPG_L2G_HT', 'Num_Players_3plus_BL_L3G_RT', 'Num_Players_10plus_APG_LG_RT', 'Num_Players_2plus_BL_L7G_HT', 'Num_Players_5plus_TOT_L6G_RT', 'APG_AVG_L4G_HT', 'PACE_L6G_RT', 'HT_num_11_plus_pts_loss_L4G', 'Num_Players_15plus_PPG_L5G_HT', 'Num_Players_30plus_PPG_L5G_HT', 'Num_Players_1plus_ST_L8G_RT', 'Num_Players_2plus_BL_L4G_RT', 'RT_cnt_loss_6_plus_L3G', 'HT_AVG_Loss_PTdiff_L4G', 'Num_Players_1plus_BL_LG_RT', 'Num_Players_1plus_TO_L5G_HT', 'HT_Num_Wins_L10G', 'Num_Players_15plus_APG_L9G_HT', 'APG_AVG_L7G_HT', 'HT_num_11_plus_pts_loss_L8G', 'PACE_L9G_HT', 'Num_Players_1plus_ST_L3G_RT', '3PT_PCT_L9G_HT', 'RT_Num_Losses_L10G', 'Num_Players_3plus_BL_LG_HT', 'Num_Players_15plus_TOT_L5G_HT', 'RT_Num_Wins_L4G', 'OEFF_L9G_HT', 'Num_Players_20plus_PPG_L2G_HT', 'Num_Players_15plus_APG_LG_HT', 'HT_Num_Losses_L2G', 'Num_Players_15plus_PPG_L2G_HT', 'RT_AVG_Loss_PTdiff_L2G', 'Num_Players_20plus_PPG_L5G_RT', 'Num_Players_25plus_PPG_L6G_HT', 'HT_AVG_Loss_PTdiff_L3G', 'HT_AVG_PTdiff_L7G', 'Num_Players_1plus_BL_L7G_RT', 'TS_PCT_L9G_RT', '3PT_PCT_L8G_HT', 'RT_cnt_wins_6_plus_L10G', 'Num_Players_5plus_APG_L4G_RT', 'Num_Players_20plus_PPG_L5G_HT', 'BL_AVG_L9G_RT', 'POSS_L7G_HT', 'Num_Players_10plus_APG_L9G_RT', 'Num_Players_2plus_BL_L2G_RT', 'RT_Num_Wins_L10G', 'Num_Players_2plus_BL_L10G_RT', 'BL_AVG_L6G_HT', 'Num_Players_3plus_BL_L9G_HT', 'Num_Players_1plus_ST_L2G_HT', 'ST_AVG_L5G_RT', 'Num_Players_30plus_PPG_L3G_RT', 'Num_Players_10plus_APG_L6G_RT', 'TOT_AVG_L3G_HT', 'DEFF_L2G_HT', 'HT_cnt_within_5_L9G', 'RT_AVG_PTdiff_L6G', 'Num_Players_20plus_PPG_L7G_HT', 'Num_Players_1plus_BL_L5G_RT', 'Num_Players_10plus_TOT_L7G_HT', 'PACE_L9G_RT', 'Num_Players_2plus_ST_LG_RT', 'Num_Players_15plus_PPG_L3G_HT', 'Num_Players_5plus_APG_LG_HT', 'Num_Players_3plus_ST_L10G_HT', 'HT_AVG_Win_PTdiff_L10G', 'Num_Players_3plus_BL_L5G_HT', 'Num_Players_2plus_ST_L7G_HT', 'HT_Num_Wins_L3G', 'PACE_L7G_HT', 'TS_PCT_L8G_RT', 'Num_Players_1plus_BL_L5G_HT', 'OEFF_L8G_HT', 'RT_AVG_PTdiff_L8G', 'HT_cnt_wins_6_plus_L2G', 'Num_Players_5plus_TO_LG_RT', 'Num_Players_5plus_APG_L7G_HT', 'HT_Num_Wins_L6G', 'Num_Players_25plus_PPG_L9G_RT', 'RT_Num_Losses_L9G', 'Num_Players_20plus_PPG_L9G_RT', 'Num_Players_3plus_TO_L7G_RT', 'Num_Players_2plus_BL_L6G_HT', 'DEFF_L7G_RT', 'Num_Players_2plus_ST_L8G_RT', 'OEFF_L8G_RT', 'RT_AVG_Win_PTdiff_L6G', 'Num_Players_15plus_PPG_L7G_HT', 'APG_AVG_L10G_HT', 'HT_Num_Losses_L6G', 'Num_Players_3plus_BL_L9G_RT', 'Num_Players_5plus_APG_L2G_RT', 'PACE_L2G_RT', 'ST_AVG_L3G_RT', 'OEFF_L5G_RT', 'Num_Players_20plus_PPG_L10G_HT', 'OEFF_L6G_RT', 'Num_Players_2plus_ST_L5G_RT', 'Num_Players_1plus_TO_L4G_HT', 'RT_AVG_Loss_PTdiff_L4G', 'HT_cnt_within_5_L10G', 'Num_Players_15plus_TOT_LG_HT', 'Num_Players_3plus_BL_L7G_HT', 'Num_Players_25plus_PPG_L7G_HT', 'Num_Players_20plus_PPG_L7G_RT', 'HT_Num_Losses_L5G', 'PPG_AVG_L7G_RT', 'RT_Num_Losses_L8G', 'Num_Players_30plus_PPG_L4G_RT', 'RT_cnt_loss_6_plus_LG', 'Num_Players_15plus_APG_L2G_HT', 'FG_PCT_L2G_HT', 'HT_cnt_within_5_LG', 'Num_Players_1plus_TO_L10G_HT', 'Num_Players_30plus_PPG_L10G_RT', 'Num_Players_5plus_APG_L9G_HT', 'Num_Players_1plus_ST_L9G_HT', 'Num_Players_5plus_TOT_L10G_HT', 'Num_Players_2plus_BL_L3G_HT', 'Num_Players_20plus_PPG_L4G_RT', 'TOT_AVG_L4G_HT', 'Num_Players_3plus_TO_L2G_RT', 'TOT_AVG_L9G_HT', 'Num_Players_10plus_APG_L3G_HT', 'RT_num_11_plus_pts_loss_L7G', 'RT_num_11_plus_pts_wins_L10G', 'Num_Players_10plus_APG_L8G_HT', 'RT_num_11_plus_pts_loss_L9G', 'Num_Players_15plus_TOT_LG_RT', 'RT_cnt_loss_6_plus_L5G', 'RT_num_11_plus_pts_loss_L2G', 'Num_Players_15plus_APG_L5G_RT', 'TS_PCT_L3G_RT', 'HT_AVG_Loss_PTdiff_L2G', 'Num_Players_10plus_TOT_L8G_HT', 'Num_Players_1plus_BL_L6G_RT', 'Num_Players_5plus_APG_L8G_RT', 'OEFF_L4G_RT', 'RT_Num_Losses_L4G', 'HT_num_11_plus_pts_wins_L2G', 'Num_Players_3plus_ST_L7G_RT', 'APG_LG_RT', 'Num_Players_10plus_APG_L5G_HT', 'HT_num_11_plus_pts_loss_L10G', 'Num_Players_5plus_TOT_L10G_RT', 'Num_Players_2plus_ST_L7G_RT', 'APG_AVG_L6G_RT', 'HT_num_11_plus_pts_loss_L9G', 'RT_num_11_plus_pts_wins_LG', 'BL_AVG_L8G_HT', 'PPG_AVG_L3G_HT', 'Num_Players_10plus_APG_L8G_RT', 'OEFF_L2G_HT', 'Num_Players_5plus_TO_L8G_RT', 'Num_Players_2plus_BL_L10G_HT', 'ST_AVG_L9G_HT', 'PPG_AVG_L9G_HT', 'Num_Players_5plus_TO_L5G_RT', 'TS_PCT_L5G_RT', 'RT_cnt_within_5_L2G', 'Num_Players_15plus_TOT_L2G_RT', 'PPG_AVG_L4G_RT', 'PPG_AVG_L3G_RT', 'Num_Players_3plus_ST_L3G_HT', 'PPG_AVG_L10G_RT', 'Num_Players_1plus_BL_L2G_HT', 'Num_Players_3plus_ST_L5G_RT', 'BL_AVG_L3G_RT', 'Num_Players_1plus_TO_L3G_RT', 'HT_AVG_Loss_PTdiff_L5G', 'Num_Players_10plus_APG_L2G_RT', 'ST_AVG_L7G_HT', 'DEFF_L3G_RT', 'Num_Players_1plus_ST_LG_RT', 'TOT_AVG_L7G_RT', 'Num_Players_3plus_TO_L5G_HT', 'Num_Players_3plus_TO_LG_RT', 'ST_AVG_L7G_RT', 'TOT_AVG_L9G_RT', 'Num_Players_1plus_TO_LG_RT', 'HT_num_11_plus_pts_wins_L8G', 'Num_Players_1plus_TO_LG_HT', 'HT_AVG_Loss_PTdiff_L10G', 'Num_Players_3plus_BL_L10G_HT', 'Num_Players_2plus_ST_L4G_RT', 'OEFF_L9G_RT', 'Num_Players_30plus_PPG_LG_RT', 'FT_PCT_L10G_RT', 'POSS_L8G_RT', 'Num_Players_3plus_BL_L3G_HT', 'Num_Players_25plus_PPG_L2G_RT', 'RT_cnt_loss_6_plus_L4G', 'POSS_LG_RT', 'Num_Players_15plus_APG_L10G_HT', 'Num_Players_15plus_PPG_L2G_RT', 'HT_cnt_loss_6_plus_L6G', 'DEFF_L5G_HT', 'Num_Players_1plus_ST_L9G_RT', 'Num_Players_1plus_BL_L10G_HT', '3PT_PCT_L4G_HT', 'FT_PCT_L8G_RT', 'TS_PCT_L2G_HT', 'RT_num_11_plus_pts_wins_L8G', 'Num_Players_15plus_PPG_L10G_HT', 'Num_Players_15plus_APG_L7G_RT', 'POSS_L4G_RT', 'Num_Players_1plus_ST_L8G_HT', 'Num_Players_15plus_PPG_L9G_RT', 'HT_num_11_plus_pts_loss_L7G', 'HT_Num_Wins_L9G', 'HT_AVG_Win_PTdiff_L7G', 'Num_Players_5plus_APG_L3G_RT', 'Num_Players_20plus_PPG_L6G_HT', 'DEFF_LG_RT', 'Num_Players_1plus_BL_L9G_RT', 'Num_Players_3plus_TO_LG_HT', 'Num_Players_30plus_PPG_L8G_RT', '3PT_PCT_L10G_RT', 'Num_Players_15plus_TOT_L4G_RT', 'Num_Players_1plus_TO_L4G_RT', 'HT_Num_Losses_L10G', 'Num_Players_5plus_APG_L4G_HT', 'Num_Players_2plus_BL_L2G_HT', 'FG_PCT_L3G_HT', 'HT_num_11_plus_pts_wins_L3G', 'Num_Players_5plus_TOT_L7G_RT', 'HT_Num_Losses_L9G', 'Num_Players_3plus_TO_L8G_HT', 'RT_num_11_plus_pts_loss_L5G', 'Num_Players_15plus_APG_L4G_RT', 'BL_AVG_L9G_HT', 'RT_Num_Wins_L8G', 'Num_Players_1plus_BL_L3G_HT', 'Num_Players_2plus_BL_L9G_RT', 'Num_Players_3plus_TO_L5G_RT', 'HT_cnt_within_5_L4G', 'Num_Players_1plus_TO_L7G_RT', 'RT_cnt_wins_6_plus_L8G', 'HT_Num_Wins_L4G', 'RT_Num_Losses_L3G', 'POSS_L10G_HT', 'Num_Players_15plus_TOT_L8G_HT', 'Num_Players_1plus_TO_L10G_RT', 'Num_Players_1plus_TO_L6G_HT', 'Num_Players_1plus_BL_L10G_RT', 'HT_AVG_PTdiff_L10G', 'Num_Players_10plus_TOT_L7G_RT', 'PPG_AVG_L10G_HT', 'Num_Players_10plus_TOT_L6G_RT', 'Num_Players_1plus_TO_L8G_RT', 'Num_Players_20plus_PPG_L8G_HT', 'PPG_AVG_L9G_RT', 'RT_AVG_Loss_PTdiff_L5G', 'Num_Players_3plus_ST_L8G_RT', 'Num_Players_25plus_PPG_L4G_HT', 'Num_Players_15plus_APG_L8G_HT', 'Num_Players_15plus_TOT_L6G_HT', '3PT_PCT_L7G_HT', 'FT_PCT_LG_RT', 'DEFF_L5G_RT', 'RT_AVG_Win_PTdiff_L8G', 'Num_Players_2plus_BL_L5G_RT', 'HT_Num_Wins_L7G', 'Num_Players_5plus_APG_L5G_RT', 'Num_Players_10plus_TOT_L3G_HT', 'HT_cnt_loss_6_plus_LG', 'Num_Players_30plus_PPG_L9G_HT', 'Num_Players_10plus_TOT_L2G_HT', 'RT_cnt_wins_6_plus_L4G', 'Num_Players_3plus_TO_L6G_RT', 'RT_cnt_loss_6_plus_L6G', 'Num_Players_5plus_APG_L2G_HT', 'Num_Players_3plus_ST_L10G_RT', 'Num_Players_5plus_TO_L6G_RT', 'Num_Players_15plus_TOT_L5G_RT', 'Num_Players_10plus_TOT_L4G_HT', 'HT_Num_Wins_L8G', 'Num_Players_5plus_TO_L5G_HT', 'Num_Players_2plus_ST_L3G_HT', 'RT_AVG_PTdiff_L2G', 'ST_AVG_L4G_HT', 'Num_Players_3plus_ST_L3G_RT', 'DEFF_L8G_RT', 'RT_Num_Losses_L6G', 'RT_cnt_within_5_L7G', 'Num_Players_2plus_BL_L3G_RT', 'Num_Players_3plus_TO_L2G_HT', 'TOT_AVG_L7G_HT', 'HT_num_11_plus_pts_loss_LG', 'HT_AVG_Loss_PTdiff_L6G', 'HT_AVG_PTdiff_LG', 'Num_Players_10plus_APG_L2G_HT', 'Num_Players_15plus_TOT_L9G_HT', 'RT_cnt_wins_6_plus_L9G', 'BL_AVG_L8G_RT', 'Num_Players_3plus_TO_L10G_RT', 'HT_num_11_plus_pts_wins_L6G', 'HT_cnt_wins_6_plus_L8G', 'HT_AVG_Win_PTdiff_L4G', 'ST_AVG_L2G_RT', 'Num_Players_3plus_ST_L4G_HT', 'HT_cnt_wins_6_plus_L10G', 'RT_cnt_wins_6_plus_L5G', 'Num_Players_10plus_APG_L7G_RT', 'Num_Players_10plus_APG_L6G_HT', 'Num_Players_5plus_TOT_L2G_HT', 'APG_AVG_L6G_HT', 'Num_Players_1plus_ST_L10G_HT', 'FG_PCT_L10G_RT', 'Num_Players_5plus_TO_L8G_HT', 'APG_AVG_L9G_HT', 'Num_Players_5plus_TOT_L5G_RT', 'RT_cnt_within_5_LG', 'RT_num_11_plus_pts_loss_L4G', 'DEFF_L4G_HT', 'RT_AVG_PTdiff_L5G', 'Num_Players_20plus_PPG_L9G_HT', 'Num_Players_10plus_TOT_L3G_RT', 'TS_PCT_L8G_HT', 'TOT_AVG_L10G_RT', 'BL_AVG_L10G_RT', 'Num_Players_2plus_BL_LG_HT', 'Num_Players_1plus_BL_L9G_HT', 'PPG_AVG_L4G_HT', 'RT_Loss_LG', 'HT_AVG_Loss_PTdiff_L8G', 'Num_Players_10plus_TOT_L5G_HT', 'HT_cnt_loss_6_plus_L2G', 'Num_Players_5plus_TOT_LG_RT', '3PT_PCT_L4G_RT', 'Num_Players_25plus_PPG_LG_RT', 'OEFF_L3G_RT', 'HT_cnt_within_5_L3G', 'HT_cnt_loss_6_plus_L4G', 'Num_Players_3plus_TO_L8G_RT', 'Num_Players_10plus_TOT_L2G_RT', 'Num_Players_5plus_APG_L9G_RT', 'Num_Players_1plus_BL_L8G_RT', 'Num_Players_2plus_ST_L6G_HT', 'RT_AVG_Loss_PTdiff_L10G', 'Num_Players_3plus_BL_L4G_RT', 'Num_Players_5plus_TO_L6G_HT', 'Num_Players_5plus_TO_L3G_RT', 'Num_Players_15plus_TOT_L8G_RT', 'RT_AVG_PTdiff_L10G', 'Num_Players_1plus_TO_L5G_RT', 'HT_cnt_loss_6_plus_L3G', 'RT_Num_Losses_L2G', 'FT_PCT_L5G_HT', 'FT_PCT_L9G_HT', 'Num_Players_2plus_BL_L9G_HT', 'TS_PCT_L7G_RT', 'Num_Players_20plus_PPG_L10G_RT', 'RT_AVG_PTdiff_L4G', 'APG_AVG_L4G_RT', 'DEFF_L4G_RT', 'Num_Players_25plus_PPG_L3G_HT', 'TOT_AVG_L3G_RT', 'FG_PCT_L2G_RT', 'FG_PCT_L3G_RT', 'RT_Num_Losses_L5G', 'OEFF_LG_RT', 'Num_Players_30plus_PPG_LG_HT', 'Num_Players_2plus_ST_L9G_RT', 'RT_AVG_Loss_PTdiff_L9G', 'Num_Players_15plus_APG_L9G_RT', 'PACE_LG_HT', 'Num_Players_10plus_TOT_LG_HT', 'OEFF_L5G_HT', 'Num_Players_20plus_PPG_L4G_HT', 'HT_AVG_PTdiff_L2G', 'HT_num_11_plus_pts_wins_LG', 'Num_Players_5plus_TO_L10G_RT', 'Num_Players_15plus_APG_L7G_HT', 'Num_Players_15plus_PPG_L7G_RT', 'Num_Players_10plus_APG_L7G_HT', 'Num_Players_3plus_ST_L9G_HT', 'Num_Players_3plus_TO_L7G_HT', 'Num_Players_10plus_APG_LG_HT', 'FG_PCT_L8G_HT', 'RT_num_11_plus_pts_loss_L3G', 'Num_Players_25plus_PPG_L4G_RT', 'Num_Players_15plus_APG_L2G_RT', 'APG_AVG_L3G_HT', 'POSS_L4G_HT', 'Num_Players_5plus_TO_L10G_HT', 'FG_PCT_L10G_HT', 'RT_AVG_Loss_PTdiff_L3G', 'Num_Players_15plus_PPG_L9G_HT', 'FT_PCT_L7G_HT', 'HT_Loss_LG', 'Num_Players_3plus_ST_L7G_HT', 'Num_Players_1plus_TO_L2G_RT', 'Num_Players_5plus_TO_L3G_HT', 'Num_Players_3plus_ST_LG_HT', 'Num_Players_2plus_BL_LG_RT', 'RT_AVG_Win_PTdiff_L10G', 'Num_Players_15plus_TOT_L7G_RT', 'RT_cnt_wins_6_plus_L3G', 'ht_spread_line', 'Num_Players_3plus_BL_L2G_HT', 'Num_Players_2plus_ST_L10G_HT', 'Num_Players_15plus_APG_L8G_RT', 'Num_Players_1plus_ST_L2G_RT', 'RT_AVG_Win_PTdiff_L2G', 'Num_Players_15plus_TOT_L6G_RT', 'HT_cnt_loss_6_plus_L9G', 'HT_cnt_within_5_L2G', 'HT_num_11_plus_pts_loss_L3G', 'Num_Players_5plus_TO_L2G_RT', 'HT_cnt_loss_6_plus_L7G', 'HT_Num_Losses_L7G', 'POSS_L9G_RT', 'Num_Players_5plus_TO_L4G_RT', 'Num_Players_3plus_ST_LG_RT', 'Num_Players_5plus_APG_L10G_HT', 'TS_PCT_L5G_HT', 'Num_Players_5plus_TOT_L9G_RT', 'Num_Players_20plus_PPG_L8G_RT', 'RT_Num_Wins_L3G', 'Num_Players_1plus_TO_L9G_HT', 'Num_Players_25plus_PPG_L10G_HT', 'Num_Players_20plus_PPG_L6G_RT', 'Num_Players_5plus_TO_L4G_HT', 'TS_PCT_L4G_HT', '3PT_PCT_L3G_HT', 'PACE_L8G_HT', 'APG_AVG_L3G_RT', 'HT_cnt_loss_6_plus_L8G', 'RT_cnt_within_5_L4G', 'Num_Players_3plus_BL_L10G_RT', 'Num_Players_25plus_PPG_L8G_RT', 'HT_Num_Losses_L8G', 'POSS_L3G_RT', 'FG_PCT_L6G_RT', 'Num_Players_1plus_ST_L6G_RT', 'APG_AVG_L8G_HT', 'RT_Num_Wins_L9G', 'Num_Players_3plus_ST_L6G_HT', 'Num_Players_5plus_APG_L10G_RT', 'FG_PCT_L4G_RT', 'RT_cnt_within_5_L3G', 'Num_Players_15plus_PPG_LG_HT', 'HT_num_11_plus_pts_wins_L5G', 'HT_Num_Losses_L3G', 'HT_Num_Wins_L5G', 'POSS_L8G_HT', 'PACE_L8G_RT', 'RT_cnt_loss_6_plus_L9G', 'Num_Players_2plus_BL_L6G_RT', 'Num_Players_3plus_TO_L6G_HT', 'Num_Players_5plus_TOT_L2G_RT', 'RT_num_11_plus_pts_loss_L6G', 'HT_AVG_Loss_PTdiff_LG', 'Num_Players_5plus_APG_L5G_HT', 'RT_AVG_PTdiff_LG', 'PPG_AVG_L5G_RT', 'Num_Players_5plus_TOT_L6G_HT', 'HT_AVG_PTdiff_L3G', 'Num_Players_1plus_ST_L5G_RT', 'Num_Players_2plus_BL_L4G_HT', 'Num_Players_2plus_ST_L2G_HT', 'FG_PCT_L7G_RT', 'Num_Players_10plus_TOT_L10G_RT', 'Num_Players_25plus_PPG_L3G_RT', 'RT_num_11_plus_pts_wins_L2G', 'Num_Players_10plus_TOT_L10G_HT', 'Num_Players_10plus_TOT_L8G_RT', 'RT_num_11_plus_pts_wins_L4G', 'Num_Players_2plus_ST_L9G_HT', 'Num_Players_30plus_PPG_L10G_HT', 'ST_AVG_L10G_RT', 'Num_Players_1plus_TO_L3G_HT', 'POSS_L3G_HT', 'Num_Players_30plus_PPG_L2G_RT', 'RT_cnt_loss_6_plus_L2G', 'Num_Players_3plus_TO_L3G_HT', 'PPG_AVG_L2G_RT', 'RT_Num_Wins_L2G', 'Num_Players_15plus_PPG_L8G_HT', 'Num_Players_5plus_TO_LG_HT', 'RT_AVG_Win_PTdiff_LG', 'Num_Players_15plus_PPG_L4G_RT', 'Num_Players_25plus_PPG_L9G_HT', 'Num_Players_3plus_TO_L9G_HT', 'Num_Players_1plus_BL_L4G_RT', 'Num_Players_15plus_TOT_L2G_HT', 'Num_Players_10plus_APG_L10G_HT', 'RT_AVG_PTdiff_L3G', 'HT_AVG_Win_PTdiff_L5G', 'TS_PCT_L7G_HT', 'BL_AVG_L3G_HT', '3PT_PCT_L2G_RT', 'HT_AVG_Win_PTdiff_L8G', 'TS_PCT_L3G_HT', 'ST_LG_RT', 'Num_Players_5plus_TOT_L5G_HT', '3PT_PCT_L5G_RT', 'Num_Players_5plus_TO_L7G_HT', '3PT_PCT_L7G_RT', 'Num_Players_10plus_APG_L4G_HT', 'Num_Players_15plus_TOT_L3G_RT', 'RT_AVG_Win_PTdiff_L3G', 'Num_Players_3plus_ST_L2G_HT', 'Num_Players_2plus_BL_L8G_RT', 'HT_AVG_PTdiff_L6G', 'RT_cnt_within_5_L6G', 'Num_Players_2plus_ST_L2G_RT', 'BL_AVG_L5G_HT', 'HT_cnt_within_5_L8G', 'HT_AVG_Loss_PTdiff_L9G', 'Num_Players_1plus_BL_L3G_RT', '3PT_PCT_L6G_HT', 'FG_PCT_L5G_HT', 'POSS_L9G_HT', 'Num_Players_10plus_TOT_L4G_RT', 'DEFF_L2G_RT', 'APG_AVG_L2G_HT', 'TOT_LG_RT', 'FT_PCT_L4G_RT', 'DEFF_L10G_HT', 'TS_PCT_L4G_RT', 'Num_Players_1plus_ST_L7G_HT', 'HT_cnt_loss_6_plus_L5G', 'Num_Players_10plus_APG_L9G_HT', 'Num_Players_3plus_BL_L5G_RT', 'HT_AVG_Win_PTdiff_L3G', 'Num_Players_25plus_PPG_L10G_RT', 'RT_AVG_Win_PTdiff_L5G', 'DEFF_L8G_HT', 'Num_Players_3plus_BL_L8G_RT', 'Num_Players_15plus_TOT_L3G_HT', 'RT_num_11_plus_pts_loss_L10G', 'Num_Players_15plus_TOT_L7G_HT', 'HT_cnt_wins_6_plus_L6G', 'Num_Players_3plus_BL_L4G_HT', 'HT_Num_Wins_L2G', 'Num_Players_5plus_TO_L9G_RT', 'POSS_L6G_HT', 'BL_LG_HT', 'RT_num_11_plus_pts_wins_L6G', 'ST_AVG_L10G_HT', 'FG_PCT_L5G_RT', 'HT_cnt_wins_6_plus_L9G', 'Num_Players_3plus_ST_L6G_RT', 'HT_AVG_Win_PTdiff_LG', 'HT_cnt_wins_6_plus_LG', 'TOT_AVG_L5G_HT', 'RT_num_11_plus_pts_loss_L8G', 'Num_Players_15plus_APG_LG_RT', 'RT_Num_Wins_L7G', 'OEFF_L4G_HT', 'FT_PCT_L3G_RT', 'FT_PCT_L9G_RT', 'Num_Players_5plus_TO_L2G_HT', 'Num_Players_5plus_APG_LG_RT', 'RT_num_11_plus_pts_wins_L5G', 'Num_Players_3plus_ST_L2G_RT', 'Num_Players_15plus_APG_L5G_HT', 'BL_AVG_L5G_RT', 'Num_Players_3plus_ST_L8G_HT', 'RT_AVG_Loss_PTdiff_L8G', 'BL_AVG_L7G_RT', 'Num_Players_10plus_TOT_L9G_HT', 'Num_Players_3plus_ST_L5G_HT', 'Num_Players_2plus_BL_L5G_HT', 'Num_Players_30plus_PPG_L4G_HT', 'Num_Players_20plus_PPG_LG_HT', 'FT_PCT_L6G_HT', 'RT_AVG_Win_PTdiff_L7G', 'Num_Players_5plus_TOT_L3G_RT', 'Num_Players_5plus_TOT_LG_HT', 'Num_Players_1plus_ST_L5G_HT', 'BL_AVG_L2G_RT', 'Num_Players_15plus_PPG_L10G_RT', 'RT_cnt_loss_6_plus_L10G', 'Num_Players_25plus_PPG_L8G_HT', 'Num_Players_5plus_TOT_L4G_RT', 'DEFF_L9G_RT', 'TOT_AVG_L2G_RT', 'RT_AVG_Loss_PTdiff_LG', 'ST_AVG_L4G_RT', 'POSS_L6G_RT', 'HT_AVG_PTdiff_L8G', 'FT_PCT_L8G_HT', 'FT_PCT_L3G_HT', 'POSS_L2G_RT', 'Num_Players_5plus_TOT_L9G_HT', 'Num_Players_1plus_TO_L6G_RT', 'ST_AVG_L6G_HT', 'Num_Players_1plus_BL_LG_HT', 'TS_PCT_L6G_HT', 'HT_AVG_PTdiff_L9G', 'Num_Players_15plus_APG_L6G_HT', 'BL_AVG_L10G_HT', 'RT_cnt_within_5_L9G', 'HT_cnt_wins_6_plus_L7G', 'HT_num_11_plus_pts_wins_L4G', 'Num_Players_3plus_BL_L6G_RT', 'APG_AVG_L5G_RT', 'Num_Players_30plus_PPG_L5G_RT', 'RT_num_11_plus_pts_wins_L7G', 'RT_Win_LG', 'Num_Players_5plus_APG_L6G_RT', 'DEFF_L7G_HT', 'Num_Players_3plus_BL_LG_RT', 'PACE_L6G_HT', 'RT_AVG_Win_PTdiff_L4G', 'Num_Players_10plus_APG_L4G_RT', 'Num_Players_10plus_APG_L10G_RT', 'PACE_LG_RT', 'HT_AVG_Win_PTdiff_L6G', 'PACE_L3G_HT', 'FG_PCT_L9G_RT', 'RT_Num_Wins_L5G', 'HT_Win_LG', 'Num_Players_1plus_BL_L7G_HT', 'Num_Players_30plus_PPG_L7G_RT', 'RT_cnt_within_5_L10G', 'PACE_L3G_RT', 'Num_Players_3plus_TO_L10G_HT', 'PACE_L2G_HT', 'FG_PCT_L8G_RT', 'OEFF_L7G_RT', 'Num_Players_25plus_PPG_L5G_HT', 'Num_Players_5plus_TOT_L3G_HT', 'Num_Players_1plus_BL_L8G_HT', 'Num_Players_30plus_PPG_L3G_HT', 'Num_Players_15plus_APG_L6G_RT', 'RT_Num_Wins_L6G', 'TOT_AVG_L6G_RT', 'Num_Players_20plus_PPG_L2G_RT', 'Num_Players_15plus_TOT_L10G_RT', 'HT_num_11_plus_pts_loss_L6G', 'RT_AVG_Win_PTdiff_L9G', 'Num_Players_5plus_TOT_L7G_HT', 'Num_Players_10plus_APG_L3G_RT', 'Num_Players_30plus_PPG_L2G_HT', 'HT_cnt_loss_6_plus_L10G', 'OEFF_L10G_RT', 'Num_Players_25plus_PPG_L5G_RT', 'RT_Num_Losses_L7G', 'HT_cnt_wins_6_plus_L3G', 'Num_Players_15plus_TOT_L4G_HT', 'HT_num_11_plus_pts_loss_L5G', 'Num_Players_1plus_ST_L4G_RT', 'RT_AVG_PTdiff_L9G', 'RT_AVG_Loss_PTdiff_L6G', 'Num_Players_10plus_APG_L5G_RT', 'Num_Players_3plus_TO_L3G_RT', 'TOT_AVG_L4G_RT', 'ST_AVG_L3G_HT', 'PPG_AVG_L7G_HT', 'OEFF_L3G_HT', 'Num_Players_15plus_PPG_L4G_HT', 'Num_Players_15plus_APG_L4G_HT', 'Num_Players_1plus_ST_LG_HT', 'RT_cnt_loss_6_plus_L7G', 'BL_AVG_L6G_RT', 'HT_cnt_wins_6_plus_L5G', 'Num_Players_2plus_BL_L8G_HT', 'Num_Players_5plus_TOT_L8G_RT', 'Num_Players_5plus_TOT_L4G_HT', 'Num_Players_25plus_PPG_LG_HT', 'RT_cnt_loss_6_plus_L8G', 'FG_PCT_L4G_HT', 'Num_Players_2plus_ST_L10G_RT', 'Num_Players_3plus_TO_L4G_RT', 'ST_AVG_L8G_RT', 'Num_Players_3plus_BL_L8G_HT', 'FT_PCT_L6G_RT', 'TOT_AVG_L2G_HT', 'Num_Players_2plus_BL_L7G_RT', 'POSS_L5G_RT', 'Num_Players_1plus_ST_L4G_HT', 'PACE_L10G_RT', 'Num_Players_1plus_TO_L7G_HT', 'DEFF_L6G_HT', 'Num_Players_15plus_PPG_LG_RT', 'HT_AVG_PTdiff_L5G', 'HT_AVG_Win_PTdiff_L2G', 'Num_Players_30plus_PPG_L9G_RT', 'Num_Players_2plus_ST_L8G_HT', 'FG_PCT_L9G_HT', 'POSS_L2G_HT', 'HT_AVG_Loss_PTdiff_L7G', 'BL_AVG_L4G_RT', '3PT_PCT_LG_RT', 'HT_AVG_Win_PTdiff_L9G', 'Num_Players_5plus_TO_L9G_HT', 'HT_cnt_within_5_L6G', 'Num_Players_15plus_TOT_L9G_RT', 'Num_Players_30plus_PPG_L8G_HT', 'Num_Players_20plus_PPG_L3G_HT', 'ST_AVG_L9G_RT', 'Num_Players_2plus_ST_L3G_RT', 'BL_AVG_L7G_HT', 'APG_AVG_L8G_RT', 'HT_cnt_wins_6_plus_L4G', 'APG_AVG_L10G_RT', 'Num_Players_15plus_APG_L10G_RT', 'OEFF_L7G_HT', 'RT_num_11_plus_pts_wins_L3G', 'HT_num_11_plus_pts_loss_L2G', 'Num_Players_15plus_TOT_L10G_HT', 'RT_cnt_wins_6_plus_LG', 'Num_Players_25plus_PPG_L6G_RT', 'Num_Players_1plus_BL_L6G_HT', 'Num_Players_2plus_ST_L4G_HT', 'Num_Players_1plus_TO_L2G_HT', 'Num_Players_1plus_ST_L10G_RT', 'Num_Players_3plus_BL_L2G_RT', 'APG_AVG_L9G_RT', 'Num_Players_5plus_APG_L3G_HT', 'RT_cnt_within_5_L5G', 'Num_Players_3plus_BL_L7G_RT', 'BL_LG_RT', 'Num_Players_5plus_TO_L7G_RT']\n"
     ]
    }
   ],
   "source": [
    "#Runs Recursive Feature Elimination to Remove all features of 0 Importance\n",
    "post_rfe_model, var_importance  = model_scenario.run_rfe(model_params = initial_params, \n",
    "                                                         target = model_scenario.target, X_vars= model_scenario.X_vars)"
   ]
  },
  {
   "cell_type": "code",
   "execution_count": 105,
   "metadata": {
    "collapsed": true
   },
   "outputs": [],
   "source": [
    "initial_params['bagging_freq'] = 1"
   ]
  },
  {
   "cell_type": "code",
   "execution_count": 106,
   "metadata": {},
   "outputs": [
    {
     "name": "stdout",
     "output_type": "stream",
     "text": [
      "100%|██████████| 200/200 [09:38<00:00,  2.89s/trial, best loss: -0.5]\n"
     ]
    }
   ],
   "source": [
    "#Runs Hyperparameter tuning (Bayesian Optimization) - current scenario set to complete 200 rounds \n",
    "best_params, hyperparam_obj = model_scenario.run_hyperopt(model_scenario.hyperopt_param_space, \n",
    "                                                          model_scenario.X_vars, \n",
    "                                                          model_params = initial_params, \n",
    "                                                          fmin_max_evals = model_scenario.fmin_max_evals)"
   ]
  },
  {
   "cell_type": "code",
   "execution_count": 107,
   "metadata": {},
   "outputs": [
    {
     "data": {
      "text/plain": [
       "{'colsample_bytree': 0.6489325172213725,\n",
       " 'learning_rate': 0.03265285941393413,\n",
       " 'min_data_in_leaf': 100.0,\n",
       " 'num_leaves': 49.0,\n",
       " 'reg_alpha': 0.17948888280944775,\n",
       " 'reg_lambda': 0.11267775892310361,\n",
       " 'subsample': 0.9}"
      ]
     },
     "execution_count": 107,
     "metadata": {},
     "output_type": "execute_result"
    }
   ],
   "source": [
    "#Runs Hyperparameter tuning (Bayesian Optimization) - current scenario set to complete 200 rounds \n",
    "best_params"
   ]
  },
  {
   "cell_type": "code",
   "execution_count": 108,
   "metadata": {
    "collapsed": true
   },
   "outputs": [],
   "source": [
    "best_params['num_leaves'] = int(best_params['num_leaves'])\n",
    "best_params['min_data_in_leaf'] = int(best_params['min_data_in_leaf'])"
   ]
  },
  {
   "cell_type": "code",
   "execution_count": 118,
   "metadata": {
    "collapsed": true
   },
   "outputs": [],
   "source": [
    "static_params =  {'objective': 'binary',\n",
    "                  'metric': 'binary_logloss',\n",
    "                  'num_boost_round': 1000,\n",
    "                  'early_stopping_rounds': 25,\n",
    "                  'max_depth': 15,\n",
    "                  'seed': model_scenario.seed\n",
    "                 }"
   ]
  },
  {
   "cell_type": "code",
   "execution_count": 119,
   "metadata": {
    "collapsed": true
   },
   "outputs": [],
   "source": [
    "final_model = lightgbm.LGBMModel(**best_params, **static_params, importance_type = 'gain')"
   ]
  },
  {
   "cell_type": "code",
   "execution_count": 120,
   "metadata": {
    "collapsed": true
   },
   "outputs": [],
   "source": [
    "eval_set = [(model_scenario.df_tune[list(post_rfe_model.booster_.feature_name())], \n",
    "             model_scenario.df_tune[model_scenario.target])]"
   ]
  },
  {
   "cell_type": "code",
   "execution_count": 121,
   "metadata": {},
   "outputs": [
    {
     "data": {
      "text/plain": [
       "LGBMModel(colsample_bytree=0.6489325172213725, early_stopping_rounds=25,\n",
       "          importance_type='gain', learning_rate=0.03265285941393413,\n",
       "          max_depth=15, metric='binary_logloss', min_data_in_leaf=100,\n",
       "          num_boost_round=1000, num_leaves=49, objective='binary',\n",
       "          reg_alpha=0.17948888280944775, reg_lambda=0.11267775892310361,\n",
       "          seed=2454371, subsample=0.9)"
      ]
     },
     "execution_count": 121,
     "metadata": {},
     "output_type": "execute_result"
    }
   ],
   "source": [
    "final_model.fit(X = model_scenario.df_train[list(post_rfe_model.booster_.feature_name())],\n",
    "                y = model_scenario.df_train[model_scenario.target],\n",
    "                eval_set = eval_set,\n",
    "                verbose = False)"
   ]
  },
  {
   "cell_type": "code",
   "execution_count": 135,
   "metadata": {},
   "outputs": [],
   "source": [
    "model_predictions = final_model.predict(model_scenario.df_validate[post_rfe_model.booster_.feature_name()])"
   ]
  },
  {
   "cell_type": "code",
   "execution_count": 138,
   "metadata": {},
   "outputs": [],
   "source": [
    "d = {\n",
    "    'TEAM_HT' : model_scenario.df_validate['TEAM_HT'],\n",
    "    'Final_Score_HT' : model_scenario.df_validate['Final_Score_HT'],\n",
    "    'TEAM_RT' : model_scenario.df_validate['TEAM_RT'],\n",
    "    'Final_Score_RT': model_scenario.df_validate['Final_Score_RT'],\n",
    "    'outcome': model_scenario.df_validate['ht_spread_covered'],\n",
    "    'ht_closing_spread': model_scenario.df_validate['CLOSING SPREAD_HT'],\n",
    "    'model_prediction': model_predictions\n",
    "}"
   ]
  },
  {
   "cell_type": "code",
   "execution_count": 139,
   "metadata": {
    "collapsed": true
   },
   "outputs": [],
   "source": [
    "model_prediction_df = pd.DataFrame(data = d)"
   ]
  },
  {
   "cell_type": "code",
   "execution_count": 142,
   "metadata": {},
   "outputs": [],
   "source": [
    "model_prediction_df['model_predict'] = model_prediction_df['model_prediction'].apply(lambda x: 1 if x > 0.49 else 0)"
   ]
  },
  {
   "cell_type": "code",
   "execution_count": 143,
   "metadata": {},
   "outputs": [
    {
     "data": {
      "text/plain": [
       "True     660\n",
       "False    652\n",
       "dtype: int64"
      ]
     },
     "execution_count": 143,
     "metadata": {},
     "output_type": "execute_result"
    }
   ],
   "source": [
    "(model_prediction_df['model_predict']  == model_prediction_df['outcome']).value_counts()"
   ]
  },
  {
   "cell_type": "code",
   "execution_count": null,
   "metadata": {
    "collapsed": true
   },
   "outputs": [],
   "source": []
  }
 ],
 "metadata": {
  "kernelspec": {
   "display_name": "gbmbuild",
   "language": "python",
   "name": "gbmbuild"
  },
  "language_info": {
   "codemirror_mode": {
    "name": "ipython",
    "version": 3
   },
   "file_extension": ".py",
   "mimetype": "text/x-python",
   "name": "python",
   "nbconvert_exporter": "python",
   "pygments_lexer": "ipython3",
   "version": "3.7.0"
  }
 },
 "nbformat": 4,
 "nbformat_minor": 2
}
