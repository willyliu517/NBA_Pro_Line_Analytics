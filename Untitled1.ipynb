{
 "cells": [
  {
   "cell_type": "code",
   "execution_count": 1,
   "metadata": {
    "collapsed": true
   },
   "outputs": [],
   "source": [
    "import pandas as pd\n",
    "import yaml\n",
    "dir = '/Users/Liu/NBA_Pro_Line_Analytics/'\n",
    "\n",
    "with open(dir + 'config.yaml', 'r') as stream:\n",
    "    try:\n",
    "        config = yaml.load(stream)\n",
    "    except yaml.YAMLError as exc:\n",
    "        print(exc)"
   ]
  },
  {
   "cell_type": "code",
   "execution_count": 2,
   "metadata": {},
   "outputs": [
    {
     "ename": "FileNotFoundError",
     "evalue": "[Errno 2] No such file or directory: '~/NBA_Pro_Line_Analytics/config.yaml'",
     "output_type": "error",
     "traceback": [
      "\u001b[0;31m---------------------------------------------------------------------------\u001b[0m",
      "\u001b[0;31mFileNotFoundError\u001b[0m                         Traceback (most recent call last)",
      "\u001b[0;32m<ipython-input-2-3dc43de7f1cb>\u001b[0m in \u001b[0;36m<module>\u001b[0;34m()\u001b[0m\n\u001b[1;32m      3\u001b[0m \u001b[0mdir\u001b[0m \u001b[0;34m=\u001b[0m \u001b[0;34m'~/NBA_Pro_Line_Analytics/'\u001b[0m\u001b[0;34m\u001b[0m\u001b[0m\n\u001b[1;32m      4\u001b[0m \u001b[0;34m\u001b[0m\u001b[0m\n\u001b[0;32m----> 5\u001b[0;31m \u001b[0;32mwith\u001b[0m \u001b[0mopen\u001b[0m\u001b[0;34m(\u001b[0m\u001b[0mdir\u001b[0m \u001b[0;34m+\u001b[0m \u001b[0;34m'config.yaml'\u001b[0m\u001b[0;34m,\u001b[0m \u001b[0;34m'r'\u001b[0m\u001b[0;34m)\u001b[0m \u001b[0;32mas\u001b[0m \u001b[0mstream\u001b[0m\u001b[0;34m:\u001b[0m\u001b[0;34m\u001b[0m\u001b[0m\n\u001b[0m\u001b[1;32m      6\u001b[0m     \u001b[0;32mtry\u001b[0m\u001b[0;34m:\u001b[0m\u001b[0;34m\u001b[0m\u001b[0m\n\u001b[1;32m      7\u001b[0m         \u001b[0mconfig\u001b[0m \u001b[0;34m=\u001b[0m \u001b[0myaml\u001b[0m\u001b[0;34m.\u001b[0m\u001b[0mload\u001b[0m\u001b[0;34m(\u001b[0m\u001b[0mstream\u001b[0m\u001b[0;34m)\u001b[0m\u001b[0;34m\u001b[0m\u001b[0m\n",
      "\u001b[0;31mFileNotFoundError\u001b[0m: [Errno 2] No such file or directory: '~/NBA_Pro_Line_Analytics/config.yaml'"
     ]
    }
   ],
   "source": []
  },
  {
   "cell_type": "code",
   "execution_count": 7,
   "metadata": {
    "collapsed": true
   },
   "outputs": [],
   "source": [
    "df_new = pd.read_excel(dir + 'data/NBA_Team_Stats_2010-2019/{0}'.format(config['NBA_Team_stats'][0]), sheet_name= 0)"
   ]
  },
  {
   "cell_type": "code",
   "execution_count": 8,
   "metadata": {
    "collapsed": true
   },
   "outputs": [],
   "source": [
    "#Drop not needed variables and reformat data\n",
    "df_new = df_new.replace('New Jersey', 'Brooklyn')\n",
    "\n",
    "df_new = df_new.drop(['MAIN REF', 'CREW', 'HALFTIME','BOX SCORE\\nURL','ODDS\\nURL','OPENING ODDS', \n",
    "                      'LINE \\nMOVEMENT #1', 'LINE \\nMOVEMENT #2','LINE \\nMOVEMENT #3','TO',\n",
    "                      'CLOSING\\nODDS'], axis=1)\n",
    "df_new = df_new.rename(columns = {'STARTING LINEUPS': 'SF', \n",
    "                                  'Unnamed: 38': 'SF2',\n",
    "                                  'Unnamed: 39':'C',\n",
    "                                  'Unnamed: 40': 'SG2',\n",
    "                                  'Unnamed: 41': 'SG1',\n",
    "                                  'TO\\nTO':'Total_TO',\n",
    "                                  'TEAM\\nREST DAYS': 'Num_Rest_Days',\n",
    "                                  'F':'Final_Score'})\n",
    "\n",
    "df_new = df_new.set_index(['GAME-ID'])\n",
    "\n",
    "#Create some new metrics to look at:\n",
    "df_new['FT_PCT'] = df_new['FT']/df_new['FTA']\n",
    "df_new['FG_PCT'] = df_new['FG']/df_new['FGA']\n",
    "df_new['3P_PCT'] = df_new['3P']/df_new['3PA']\n",
    "df_new['TS_PCT'] = df_new['PTS']/(2*(df_new['FGA']+.44*df_new['FTA']))\n",
    "df_new['DATE'] = pd.to_datetime(df_new['DATE'])"
   ]
  },
  {
   "cell_type": "code",
   "execution_count": 9,
   "metadata": {
    "collapsed": true
   },
   "outputs": [],
   "source": [
    "with open(dir + 'parameters_config.yml', 'r') as stream:\n",
    "    try:\n",
    "        param_config = yaml.load(stream)\n",
    "    except yaml.YAMLError as exc:\n",
    "        print(exc)"
   ]
  },
  {
   "cell_type": "code",
   "execution_count": 10,
   "metadata": {
    "collapsed": true
   },
   "outputs": [],
   "source": [
    "for key, value in param_config.items():\n",
    "    poww = pd.DataFrame()\n",
    "    if value['method_of_compute'] == 'mean':\n",
    "        for team in df_new.TEAM.unique():\n",
    "                aa = df_new[df_new.TEAM == team].groupby('TEAM')[value['column_required']].rolling(value['rolling_window_required']).mean().shift().reset_index()\n",
    "                poww = poww.append(aa)\n",
    "        df_new = df_new.reset_index()\n",
    "        poww = poww.rename(columns = {value['column_required']:  value['Parameter_Name']})\n",
    "        df_new = df_new.merge(poww, how='left', on=['TEAM', 'GAME-ID'])\n",
    "        df_new = df_new.set_index(['GAME-ID'])"
   ]
  },
  {
   "cell_type": "code",
   "execution_count": 71,
   "metadata": {
    "collapsed": true
   },
   "outputs": [],
   "source": [
    "import os\n",
    "dump_path = os.path.join('/Users/Liu/NBA_Pro_Line_Analytics', 'paramters_config.yml')"
   ]
  },
  {
   "cell_type": "code",
   "execution_count": 72,
   "metadata": {
    "collapsed": true
   },
   "outputs": [],
   "source": [
    "with open(dump_path, 'w') as f:\n",
    "            yaml.dump(params_list, f)"
   ]
  },
  {
   "cell_type": "code",
   "execution_count": null,
   "metadata": {
    "collapsed": true
   },
   "outputs": [],
   "source": []
  },
  {
   "cell_type": "code",
   "execution_count": null,
   "metadata": {
    "collapsed": true
   },
   "outputs": [],
   "source": []
  },
  {
   "cell_type": "code",
   "execution_count": 14,
   "metadata": {
    "collapsed": true
   },
   "outputs": [],
   "source": [
    "home_teams = df_new[df_new.VENUE == 'H']\n",
    "road_teams = df_new[df_new.VENUE == 'R']"
   ]
  },
  {
   "cell_type": "code",
   "execution_count": 15,
   "metadata": {
    "collapsed": true
   },
   "outputs": [],
   "source": [
    "match_df = home_teams.merge(road_teams, how = 'left', on = ['GAME-ID', 'DATE', 'DATASET'], suffixes = ('_HT', '_RT'))"
   ]
  },
  {
   "cell_type": "code",
   "execution_count": 163,
   "metadata": {
    "collapsed": true
   },
   "outputs": [],
   "source": []
  },
  {
   "cell_type": "code",
   "execution_count": 16,
   "metadata": {},
   "outputs": [
    {
     "name": "stdout",
     "output_type": "stream",
     "text": [
      "<class 'pandas.core.frame.DataFrame'>\n",
      "Int64Index: 1312 entries, 0 to 1311\n",
      "Data columns (total 241 columns):\n",
      "GAME-ID              int64\n",
      "DATASET              object\n",
      "DATE                 datetime64[ns]\n",
      "TEAM_HT              object\n",
      "VENUE_HT             object\n",
      "1Q_HT                int64\n",
      "2Q_HT                int64\n",
      "3Q_HT                int64\n",
      "4Q_HT                int64\n",
      "OT1_HT               float64\n",
      "OT2_HT               float64\n",
      "OT3_HT               float64\n",
      "OT4_HT               float64\n",
      "OT5_HT               float64\n",
      "Final_Score_HT       int64\n",
      "MIN_HT               int64\n",
      "FG_HT                int64\n",
      "FGA_HT               int64\n",
      "3P_HT                int64\n",
      "3PA_HT               int64\n",
      "FT_HT                int64\n",
      "FTA_HT               int64\n",
      "OR_HT                int64\n",
      "DR_HT                int64\n",
      "TOT_HT               int64\n",
      "A_HT                 int64\n",
      "PF_HT                int64\n",
      "ST_HT                int64\n",
      "Total_TO_HT          int64\n",
      "BL_HT                int64\n",
      "PTS_HT               int64\n",
      "POSS_HT              float64\n",
      "PACE_HT              float64\n",
      "OEFF_HT              float64\n",
      "DEFF_HT              float64\n",
      "Num_Rest_Days_HT     object\n",
      "SF_HT                object\n",
      "SF2_HT               object\n",
      "C_HT                 object\n",
      "SG2_HT               object\n",
      "SG1_HT               object\n",
      "OPENING SPREAD_HT    float64\n",
      "OPENING TOTAL_HT     float64\n",
      "CLOSING SPREAD_HT    float64\n",
      "CLOSING TOTAL_HT     float64\n",
      "MONEYLINE_HT         float64\n",
      "FT_PCT_HT            float64\n",
      "FG_PCT_HT            float64\n",
      "3P_PCT_HT            float64\n",
      "TS_PCT_HT            float64\n",
      "PPG_AVG_L6G_HT       float64\n",
      "PPG_AVG_L5G_HT       float64\n",
      "PPG_AVG_L4G_HT       float64\n",
      "PPG_AVG_L3G_HT       float64\n",
      "PPG_AVG_L2G_HT       float64\n",
      "PPG_LG_HT            float64\n",
      "APG_AVG_L6G_HT       float64\n",
      "APG_AVG_L5G_HT       float64\n",
      "APG_AVG_L4G_HT       float64\n",
      "APG_AVG_L3G_HT       float64\n",
      "APG_AVG_L2G_HT       float64\n",
      "APG_LG_HT            float64\n",
      "TOT_AVG_L6G_HT       float64\n",
      "TOT_AVG_L5G_HT       float64\n",
      "TOT_AVG_L4G_HT       float64\n",
      "TOT_AVG_L3G_HT       float64\n",
      "TOT_AVG_L2G_HT       float64\n",
      "TOT_LG_HT            float64\n",
      "ST_AVG_L6G_HT        float64\n",
      "ST_AVG_L5G_HT        float64\n",
      "ST_AVG_L4G_HT        float64\n",
      "ST_AVG_L3G_HT        float64\n",
      "ST_AVG_L2G_HT        float64\n",
      "ST_LG_HT             float64\n",
      "BL_AVG_L6G_HT        float64\n",
      "BL_AVG_L5G_HT        float64\n",
      "BL_AVG_L4G_HT        float64\n",
      "BL_AVG_L3G_HT        float64\n",
      "BL_AVG_L2G_HT        float64\n",
      "BL_LG_HT             float64\n",
      "FG_PCT_L6G_HT        float64\n",
      "FG_PCT_L5G_HT        float64\n",
      "FG_PCT_L4G_HT        float64\n",
      "FG_PCT_L3G_HT        float64\n",
      "FG_PCT_L2G_HT        float64\n",
      "FG_PCT_LG_HT         float64\n",
      "TS_PCT_L6G_HT        float64\n",
      "TS_PCT_L5G_HT        float64\n",
      "TS_PCT_L4G_HT        float64\n",
      "TS_PCT_L3G_HT        float64\n",
      "TS_PCT_L2G_HT        float64\n",
      "TS_PCT_LG_HT         float64\n",
      "3PT_PCT_L6G_HT       float64\n",
      "3PT_PCT_L5G_HT       float64\n",
      "3PT_PCT_L4G_HT       float64\n",
      "3PT_PCT_L3G_HT       float64\n",
      "3PT_PCT_L2G_HT       float64\n",
      "3PT_PCT_LG_HT        float64\n",
      "FT_PCT_L6G_HT        float64\n",
      "FT_PCT_L5G_HT        float64\n",
      "FT_PCT_L4G_HT        float64\n",
      "FT_PCT_L3G_HT        float64\n",
      "FT_PCT_L2G_HT        float64\n",
      "FT_PCT_LG_HT         float64\n",
      "OEFF_L6G_HT          float64\n",
      "OEFF_L5G_HT          float64\n",
      "OEFF_L4G_HT          float64\n",
      "OEFF_L3G_HT          float64\n",
      "OEFF_L2G_HT          float64\n",
      "OEFF_LG_HT           float64\n",
      "DEFF_L6G_HT          float64\n",
      "DEFF_L5G_HT          float64\n",
      "DEFF_L4G_HT          float64\n",
      "DEFF_L3G_HT          float64\n",
      "DEFF_L2G_HT          float64\n",
      "DEFF_LG_HT           float64\n",
      "PACE_L6G_HT          float64\n",
      "PACE_L5G_HT          float64\n",
      "PACE_L4G_HT          float64\n",
      "PACE_L3G_HT          float64\n",
      "PACE_L2G_HT          float64\n",
      "PACE_LG_HT           float64\n",
      "TEAM_RT              object\n",
      "VENUE_RT             object\n",
      "1Q_RT                int64\n",
      "2Q_RT                int64\n",
      "3Q_RT                int64\n",
      "4Q_RT                int64\n",
      "OT1_RT               float64\n",
      "OT2_RT               float64\n",
      "OT3_RT               float64\n",
      "OT4_RT               float64\n",
      "OT5_RT               float64\n",
      "Final_Score_RT       int64\n",
      "MIN_RT               int64\n",
      "FG_RT                int64\n",
      "FGA_RT               int64\n",
      "3P_RT                int64\n",
      "3PA_RT               int64\n",
      "FT_RT                int64\n",
      "FTA_RT               int64\n",
      "OR_RT                int64\n",
      "DR_RT                int64\n",
      "TOT_RT               int64\n",
      "A_RT                 int64\n",
      "PF_RT                int64\n",
      "ST_RT                int64\n",
      "Total_TO_RT          int64\n",
      "BL_RT                int64\n",
      "PTS_RT               int64\n",
      "POSS_RT              float64\n",
      "PACE_RT              float64\n",
      "OEFF_RT              float64\n",
      "DEFF_RT              float64\n",
      "Num_Rest_Days_RT     object\n",
      "SF_RT                object\n",
      "SF2_RT               object\n",
      "C_RT                 object\n",
      "SG2_RT               object\n",
      "SG1_RT               object\n",
      "OPENING SPREAD_RT    float64\n",
      "OPENING TOTAL_RT     float64\n",
      "CLOSING SPREAD_RT    float64\n",
      "CLOSING TOTAL_RT     float64\n",
      "MONEYLINE_RT         float64\n",
      "FT_PCT_RT            float64\n",
      "FG_PCT_RT            float64\n",
      "3P_PCT_RT            float64\n",
      "TS_PCT_RT            float64\n",
      "PPG_AVG_L6G_RT       float64\n",
      "PPG_AVG_L5G_RT       float64\n",
      "PPG_AVG_L4G_RT       float64\n",
      "PPG_AVG_L3G_RT       float64\n",
      "PPG_AVG_L2G_RT       float64\n",
      "PPG_LG_RT            float64\n",
      "APG_AVG_L6G_RT       float64\n",
      "APG_AVG_L5G_RT       float64\n",
      "APG_AVG_L4G_RT       float64\n",
      "APG_AVG_L3G_RT       float64\n",
      "APG_AVG_L2G_RT       float64\n",
      "APG_LG_RT            float64\n",
      "TOT_AVG_L6G_RT       float64\n",
      "TOT_AVG_L5G_RT       float64\n",
      "TOT_AVG_L4G_RT       float64\n",
      "TOT_AVG_L3G_RT       float64\n",
      "TOT_AVG_L2G_RT       float64\n",
      "TOT_LG_RT            float64\n",
      "ST_AVG_L6G_RT        float64\n",
      "ST_AVG_L5G_RT        float64\n",
      "ST_AVG_L4G_RT        float64\n",
      "ST_AVG_L3G_RT        float64\n",
      "ST_AVG_L2G_RT        float64\n",
      "ST_LG_RT             float64\n",
      "BL_AVG_L6G_RT        float64\n",
      "BL_AVG_L5G_RT        float64\n",
      "BL_AVG_L4G_RT        float64\n",
      "BL_AVG_L3G_RT        float64\n",
      "BL_AVG_L2G_RT        float64\n",
      "BL_LG_RT             float64\n",
      "FG_PCT_L6G_RT        float64\n",
      "FG_PCT_L5G_RT        float64\n",
      "FG_PCT_L4G_RT        float64\n",
      "FG_PCT_L3G_RT        float64\n",
      "FG_PCT_L2G_RT        float64\n",
      "FG_PCT_LG_RT         float64\n",
      "TS_PCT_L6G_RT        float64\n",
      "TS_PCT_L5G_RT        float64\n",
      "TS_PCT_L4G_RT        float64\n",
      "TS_PCT_L3G_RT        float64\n",
      "TS_PCT_L2G_RT        float64\n",
      "TS_PCT_LG_RT         float64\n",
      "3PT_PCT_L6G_RT       float64\n",
      "3PT_PCT_L5G_RT       float64\n",
      "3PT_PCT_L4G_RT       float64\n",
      "3PT_PCT_L3G_RT       float64\n",
      "3PT_PCT_L2G_RT       float64\n",
      "3PT_PCT_LG_RT        float64\n",
      "FT_PCT_L6G_RT        float64\n",
      "FT_PCT_L5G_RT        float64\n",
      "FT_PCT_L4G_RT        float64\n",
      "FT_PCT_L3G_RT        float64\n",
      "FT_PCT_L2G_RT        float64\n",
      "FT_PCT_LG_RT         float64\n",
      "OEFF_L6G_RT          float64\n",
      "OEFF_L5G_RT          float64\n",
      "OEFF_L4G_RT          float64\n",
      "OEFF_L3G_RT          float64\n",
      "OEFF_L2G_RT          float64\n",
      "OEFF_LG_RT           float64\n",
      "DEFF_L6G_RT          float64\n",
      "DEFF_L5G_RT          float64\n",
      "DEFF_L4G_RT          float64\n",
      "DEFF_L3G_RT          float64\n",
      "DEFF_L2G_RT          float64\n",
      "DEFF_LG_RT           float64\n",
      "PACE_L6G_RT          float64\n",
      "PACE_L5G_RT          float64\n",
      "PACE_L4G_RT          float64\n",
      "PACE_L3G_RT          float64\n",
      "PACE_L2G_RT          float64\n",
      "PACE_LG_RT           float64\n",
      "dtypes: datetime64[ns](1), float64(180), int64(43), object(17)\n",
      "memory usage: 2.4+ MB\n"
     ]
    }
   ],
   "source": [
    "match_df.info(verbose = True)"
   ]
  },
  {
   "cell_type": "code",
   "execution_count": 17,
   "metadata": {
    "collapsed": true
   },
   "outputs": [],
   "source": [
    "match_df['SCORE_DIFF'] = match_df['PTS_HT'] - match_df['PTS_RT']"
   ]
  },
  {
   "cell_type": "code",
   "execution_count": null,
   "metadata": {
    "collapsed": true
   },
   "outputs": [],
   "source": []
  },
  {
   "cell_type": "code",
   "execution_count": 19,
   "metadata": {
    "collapsed": true
   },
   "outputs": [],
   "source": [
    "def outcome_maker(df):\n",
    "    if abs(df['SCORE_DIFF']) <= 5 :\n",
    "        return 0\n",
    "    elif df['SCORE_DIFF'] >= 6:\n",
    "        return 1\n",
    "    elif df['SCORE_DIFF'] <= -6:\n",
    "        return -1"
   ]
  },
  {
   "cell_type": "code",
   "execution_count": 20,
   "metadata": {
    "collapsed": true
   },
   "outputs": [],
   "source": [
    "match_df['Outcome'] = match_df.apply(outcome_maker, axis=1)"
   ]
  },
  {
   "cell_type": "code",
   "execution_count": 21,
   "metadata": {
    "collapsed": true
   },
   "outputs": [],
   "source": [
    "def winning_team(df):\n",
    "    if df['SCORE_DIFF'] < 0:\n",
    "        return df['TEAM_RT']\n",
    "    else:\n",
    "        return df['TEAM_HT']"
   ]
  },
  {
   "cell_type": "code",
   "execution_count": 22,
   "metadata": {
    "collapsed": true
   },
   "outputs": [],
   "source": [
    "match_df['Winning_Team'] = match_df.apply(winning_team, axis=1)"
   ]
  },
  {
   "cell_type": "code",
   "execution_count": 23,
   "metadata": {
    "collapsed": true
   },
   "outputs": [],
   "source": [
    "def losing_team(df):\n",
    "    if df['SCORE_DIFF'] < 0:\n",
    "        return df['TEAM_HT']\n",
    "    else:\n",
    "        return df['TEAM_RT']"
   ]
  },
  {
   "cell_type": "code",
   "execution_count": 56,
   "metadata": {
    "collapsed": true
   },
   "outputs": [],
   "source": [
    "test_df = match_df.copy()"
   ]
  },
  {
   "cell_type": "code",
   "execution_count": null,
   "metadata": {
    "collapsed": true
   },
   "outputs": [],
   "source": []
  },
  {
   "cell_type": "code",
   "execution_count": 57,
   "metadata": {
    "collapsed": true
   },
   "outputs": [],
   "source": [
    "for team in test_df.TEAM_HT.unique():\n",
    "    test_df[team + '_won'] = test_df.apply(team_won, axis = 1)"
   ]
  },
  {
   "cell_type": "code",
   "execution_count": 28,
   "metadata": {
    "collapsed": true
   },
   "outputs": [],
   "source": [
    "def team_won(df):\n",
    "    if df['Winning_Team'] == team:\n",
    "        return 1\n",
    "    else:\n",
    "        return 0"
   ]
  },
  {
   "cell_type": "code",
   "execution_count": 68,
   "metadata": {
    "collapsed": true
   },
   "outputs": [],
   "source": [
    "import numpy as np\n",
    "np.where(test_df.TEAM_HT == 'Boston')\n",
    "aa = test_df[(test_df.TEAM_HT == 'Boston') |\n",
    "             (test_df.TEAM_RT == 'Boston')]['Boston_won'].rolling(5).sum().shift().to_frame()"
   ]
  },
  {
   "cell_type": "code",
   "execution_count": null,
   "metadata": {
    "collapsed": true
   },
   "outputs": [],
   "source": []
  },
  {
   "cell_type": "code",
   "execution_count": 77,
   "metadata": {
    "collapsed": true
   },
   "outputs": [],
   "source": [
    "for team in test_df.TEAM_HT.unique():\n",
    "    aa = test_df[(test_df.TEAM_HT == team) |\n",
    "                 (test_df.TEAM_RT == team)][team + '_won'].rolling(5).sum().shift().to_frame()\n",
    "    aa_ht = aa.loc[np.where(test_df.TEAM_HT == team)]\n",
    "    aa_rt = aa.loc[np.where(test_df.TEAM_RT == team)]\n",
    "    key = team + '_won'\n",
    "    aa_ht = aa_ht.rename(columns = {key: 'HT_Num_Wins_L5G'})\n",
    "    test_df.update(aa_ht)\n",
    "    aa_rt = aa_rt.rename(columns = {key: 'RT_Num_Wins_L5G'})\n",
    "    test_df.update(aa_rt)"
   ]
  },
  {
   "cell_type": "code",
   "execution_count": 1,
   "metadata": {},
   "outputs": [
    {
     "ename": "NameError",
     "evalue": "name 'test_df' is not defined",
     "output_type": "error",
     "traceback": [
      "\u001b[0;31m---------------------------------------------------------------------------\u001b[0m",
      "\u001b[0;31mNameError\u001b[0m                                 Traceback (most recent call last)",
      "\u001b[0;32m<ipython-input-1-d31fc03efb5f>\u001b[0m in \u001b[0;36m<module>\u001b[0;34m()\u001b[0m\n\u001b[0;32m----> 1\u001b[0;31m \u001b[0;32mfor\u001b[0m \u001b[0mteam\u001b[0m \u001b[0;32min\u001b[0m \u001b[0mtest_df\u001b[0m\u001b[0;34m.\u001b[0m\u001b[0mTEAM_HT\u001b[0m\u001b[0;34m.\u001b[0m\u001b[0munique\u001b[0m\u001b[0;34m(\u001b[0m\u001b[0;34m)\u001b[0m\u001b[0;34m:\u001b[0m\u001b[0;34m\u001b[0m\u001b[0m\n\u001b[0m\u001b[1;32m      2\u001b[0m     aa = test_df[(test_df.TEAM_HT == team) |\n\u001b[1;32m      3\u001b[0m                  (test_df.TEAM_RT == team)][team + '_won'].rolling(10).sum().shift().to_frame()\n\u001b[1;32m      4\u001b[0m     \u001b[0maa_ht\u001b[0m \u001b[0;34m=\u001b[0m \u001b[0maa\u001b[0m\u001b[0;34m.\u001b[0m\u001b[0mloc\u001b[0m\u001b[0;34m[\u001b[0m\u001b[0mnp\u001b[0m\u001b[0;34m.\u001b[0m\u001b[0mwhere\u001b[0m\u001b[0;34m(\u001b[0m\u001b[0mtest_df\u001b[0m\u001b[0;34m.\u001b[0m\u001b[0mTEAM_HT\u001b[0m \u001b[0;34m==\u001b[0m \u001b[0mteam\u001b[0m\u001b[0;34m)\u001b[0m\u001b[0;34m]\u001b[0m\u001b[0;34m\u001b[0m\u001b[0m\n\u001b[1;32m      5\u001b[0m     \u001b[0maa_rt\u001b[0m \u001b[0;34m=\u001b[0m \u001b[0maa\u001b[0m\u001b[0;34m.\u001b[0m\u001b[0mloc\u001b[0m\u001b[0;34m[\u001b[0m\u001b[0mnp\u001b[0m\u001b[0;34m.\u001b[0m\u001b[0mwhere\u001b[0m\u001b[0;34m(\u001b[0m\u001b[0mtest_df\u001b[0m\u001b[0;34m.\u001b[0m\u001b[0mTEAM_RT\u001b[0m \u001b[0;34m==\u001b[0m \u001b[0mteam\u001b[0m\u001b[0;34m)\u001b[0m\u001b[0;34m]\u001b[0m\u001b[0;34m\u001b[0m\u001b[0m\n",
      "\u001b[0;31mNameError\u001b[0m: name 'test_df' is not defined"
     ]
    }
   ],
   "source": [
    "for team in test_df.TEAM_HT.unique():\n",
    "    aa = test_df[(test_df.TEAM_HT == team) |\n",
    "                 (test_df.TEAM_RT == team)][team + '_won'].rolling(10).sum().shift().to_frame()\n",
    "    aa_ht = aa.loc[np.where(test_df.TEAM_HT == team)]\n",
    "    aa_rt = aa.loc[np.where(test_df.TEAM_RT == team)]\n",
    "    key = team + '_won'\n",
    "    aa_ht = aa_ht.rename(columns = {key: 'HT_Num_Wins_L10G'})\n",
    "    test_df.update(aa_ht)\n",
    "    aa_rt = aa_rt.rename(columns = {key: 'RT_Num_Wins_L10G'})\n",
    "    test_df.update(aa_rt)"
   ]
  },
  {
   "cell_type": "code",
   "execution_count": 2,
   "metadata": {},
   "outputs": [
    {
     "ename": "NameError",
     "evalue": "name 'test_df' is not defined",
     "output_type": "error",
     "traceback": [
      "\u001b[0;31m---------------------------------------------------------------------------\u001b[0m",
      "\u001b[0;31mNameError\u001b[0m                                 Traceback (most recent call last)",
      "\u001b[0;32m<ipython-input-2-e95ad6032ed1>\u001b[0m in \u001b[0;36m<module>\u001b[0;34m()\u001b[0m\n\u001b[0;32m----> 1\u001b[0;31m \u001b[0mtest_df\u001b[0m\u001b[0;34m[\u001b[0m\u001b[0;34m'HT_Num_Wins_L5G'\u001b[0m\u001b[0;34m]\u001b[0m \u001b[0;34m=\u001b[0m \u001b[0;34m\"\"\u001b[0m\u001b[0;34m\u001b[0m\u001b[0m\n\u001b[0m",
      "\u001b[0;31mNameError\u001b[0m: name 'test_df' is not defined"
     ]
    }
   ],
   "source": [
    "test_df['HT_Num_Wins_L5G'] = \"\""
   ]
  },
  {
   "cell_type": "code",
   "execution_count": 4,
   "metadata": {},
   "outputs": [
    {
     "ename": "NameError",
     "evalue": "name 'test_df' is not defined",
     "output_type": "error",
     "traceback": [
      "\u001b[0;31m---------------------------------------------------------------------------\u001b[0m",
      "\u001b[0;31mNameError\u001b[0m                                 Traceback (most recent call last)",
      "\u001b[0;32m<ipython-input-4-fd76d0a1ce07>\u001b[0m in \u001b[0;36m<module>\u001b[0;34m()\u001b[0m\n\u001b[0;32m----> 1\u001b[0;31m \u001b[0mtest_df\u001b[0m\u001b[0;34m[\u001b[0m\u001b[0;34m(\u001b[0m\u001b[0mtest_df\u001b[0m\u001b[0;34m.\u001b[0m\u001b[0mTEAM_HT\u001b[0m \u001b[0;34m==\u001b[0m \u001b[0;34m'Boston'\u001b[0m\u001b[0;34m)\u001b[0m \u001b[0;34m|\u001b[0m \u001b[0;34m(\u001b[0m\u001b[0mtest_df\u001b[0m\u001b[0;34m.\u001b[0m\u001b[0mTEAM_RT\u001b[0m \u001b[0;34m==\u001b[0m \u001b[0;34m'Boston'\u001b[0m\u001b[0;34m)\u001b[0m\u001b[0;34m]\u001b[0m\u001b[0;34m[\u001b[0m\u001b[0;34m'Boston_won'\u001b[0m\u001b[0;34m]\u001b[0m\u001b[0;34m\u001b[0m\u001b[0m\n\u001b[0m",
      "\u001b[0;31mNameError\u001b[0m: name 'test_df' is not defined"
     ]
    }
   ],
   "source": [
    "test_df[(test_df.TEAM_HT == 'Boston') | (test_df.TEAM_RT == 'Boston')]['Boston_won']"
   ]
  },
  {
   "cell_type": "code",
   "execution_count": 32,
   "metadata": {
    "collapsed": true
   },
   "outputs": [],
   "source": [
    "aa = test_df[(test_df.TEAM_HT == team) |\n",
    "                 (test_df.TEAM_RT == team)][team + '_won'].rolling(5).sum().shift().to_frame()\n",
    "key = team + '_won'"
   ]
  },
  {
   "cell_type": "code",
   "execution_count": 33,
   "metadata": {
    "collapsed": true
   },
   "outputs": [],
   "source": [
    "aa = aa.rename(columns = {key: 'Num_Wins_L5G'})"
   ]
  },
  {
   "cell_type": "code",
   "execution_count": 50,
   "metadata": {
    "collapsed": true
   },
   "outputs": [],
   "source": [
    "test_df = test_df.merge(poww.sort_index(), how = 'left', left_index = True, right_index = True)"
   ]
  },
  {
   "cell_type": "code",
   "execution_count": 5,
   "metadata": {},
   "outputs": [
    {
     "ename": "NameError",
     "evalue": "name 'test_df' is not defined",
     "output_type": "error",
     "traceback": [
      "\u001b[0;31m---------------------------------------------------------------------------\u001b[0m",
      "\u001b[0;31mNameError\u001b[0m                                 Traceback (most recent call last)",
      "\u001b[0;32m<ipython-input-5-8c8a3959278e>\u001b[0m in \u001b[0;36m<module>\u001b[0;34m()\u001b[0m\n\u001b[0;32m----> 1\u001b[0;31m test_df[(test_df.TEAM_HT == 'Boston') | (test_df.TEAM_RT == 'Boston')][['TEAM_HT', 'TEAM_RT', 'Boston_won',\n\u001b[0m\u001b[1;32m      2\u001b[0m                                                                         \u001b[0;34m'Final_Score_HT'\u001b[0m \u001b[0;34m,\u001b[0m \u001b[0;34m'Final_Score_RT'\u001b[0m\u001b[0;34m,\u001b[0m\u001b[0;34m\u001b[0m\u001b[0m\n\u001b[1;32m      3\u001b[0m                                                                         'HT_Num_Wins_L10G','RT_Num_Wins_L10G']]\n",
      "\u001b[0;31mNameError\u001b[0m: name 'test_df' is not defined"
     ]
    }
   ],
   "source": [
    "test_df[(test_df.TEAM_HT == 'Boston') | (test_df.TEAM_RT == 'Boston')][['TEAM_HT', 'TEAM_RT', 'Boston_won',\n",
    "                                                                        'Final_Score_HT' , 'Final_Score_RT',\n",
    "                                                                        'HT_Num_Wins_L10G','RT_Num_Wins_L10G']]"
   ]
  },
  {
   "cell_type": "code",
   "execution_count": 27,
   "metadata": {
    "collapsed": true
   },
   "outputs": [],
   "source": [
    "import pandas as pd\n",
    "import yaml\n",
    "\n",
    "dir = '/Users/Liu/NBA_Pro_Line_Analytics/'\n",
    "\n",
    "with open(dir + 'config.yaml', 'r') as stream:\n",
    "    try:\n",
    "        config = yaml.load(stream)\n",
    "    except yaml.YAMLError as exc:\n",
    "        print(exc)\n",
    "\n",
    "for data in config['NBA_Team_stats']:\n",
    "    df_new = pd.read_excel(dir + 'raw_data/NBA_Team_Stats_2010-2019/{0}'.format(data), sheet_name= 0)\n",
    "\n",
    "    #The New Jersey Nets relocated to Brooklyn after the 2011-2012 season\n",
    "    #Changing the name for more consistency\n",
    "    df_new = df_new.replace('New Jersey', 'Brooklyn')\n",
    "\n",
    "    #Drops the columns not used\n",
    "    df_new = df_new.drop(['MAIN REF', 'CREW', 'HALFTIME', 'BOX SCORE\\nURL', 'ODDS\\nURL', 'OPENING ODDS',\n",
    "                          'LINE \\nMOVEMENT #1', 'LINE \\nMOVEMENT #2', 'LINE \\nMOVEMENT #3', 'TO',\n",
    "                          'CLOSING\\nODDS'], axis=1)\n",
    "    #Naming conventions:\n",
    "    #SF - Starting Forward\n",
    "    #SG - Staring Guard\n",
    "    #C - Center\n",
    "    df_new = df_new.rename(columns={'STARTING LINEUPS': 'SF',\n",
    "                                    'Unnamed: 38': 'SF2',\n",
    "                                    'Unnamed: 39': 'C',\n",
    "                                    'Unnamed: 40': 'SG2',\n",
    "                                    'Unnamed: 41': 'SG1',\n",
    "                                    'TO\\nTO': 'Total_TO',\n",
    "                                    'TEAM\\nREST DAYS': 'Num_Rest_Days',\n",
    "                                    'F': 'Final_Score'})\n",
    "\n",
    "    #Calculates shooting percentages\n",
    "    df_new = df_new.set_index(['GAME-ID'])\n",
    "    df_new['FT_PCT'] = df_new['FT'] / df_new['FTA']\n",
    "    df_new['FG_PCT'] = df_new['FG'] / df_new['FGA']\n",
    "    df_new['3P_PCT'] = df_new['3P'] / df_new['3PA']\n",
    "    #Formula for True Shooting Percentage from Wiki\n",
    "    df_new['TS_PCT'] = df_new['PTS'] / (2 * (df_new['FGA'] + .44 * df_new['FTA']))\n",
    "\n",
    "    df_new['DATE'] = pd.to_datetime(df_new['DATE'])\n",
    "\n",
    "    #Opens the yaml containing parameter configurations\n",
    "    with open(dir + 'parameters_config.yml', 'r') as stream:\n",
    "        try:\n",
    "            param_config = yaml.load(stream)\n",
    "        except yaml.YAMLError as exc:\n",
    "            print(exc)\n",
    "\n",
    "    #Computes the rolling mean from the data\n",
    "    for key, value in param_config.items():\n",
    "        poww = pd.DataFrame()\n",
    "        if value['method_of_compute'] == 'mean':\n",
    "            for team in df_new.TEAM.unique():\n",
    "                aa = df_new[df_new.TEAM == team].groupby('TEAM')[value['column_required']].rolling(\n",
    "                    value['rolling_window_required']).mean().shift().reset_index()\n",
    "                poww = poww.append(aa)\n",
    "            df_new = df_new.reset_index()\n",
    "            poww = poww.rename(columns={value['column_required']: value['Parameter_Name']})\n",
    "            df_new = df_new.merge(poww, how='left', on=['TEAM', 'GAME-ID'])\n",
    "            df_new = df_new.set_index(['GAME-ID'])\n",
    "            \n",
    "    \n",
    "    data_name = data[0:len(data) - 5] + '_cleaned.csv'\n",
    "    df_new.to_csv(dir + 'build_data/NBA_Team_Stats_2010-2019/{0}'.format(data_name))"
   ]
  },
  {
   "cell_type": "code",
   "execution_count": 18,
   "metadata": {},
   "outputs": [
    {
     "data": {
      "text/plain": [
       "'NBA-2009-2010-Player-BoxScore-Dataset'"
      ]
     },
     "execution_count": 18,
     "metadata": {},
     "output_type": "execute_result"
    }
   ],
   "source": [
    "config['NBA_Player_stats'][0][:len(config['NBA_Player_stats'][0]) - 5]"
   ]
  },
  {
   "cell_type": "code",
   "execution_count": 17,
   "metadata": {},
   "outputs": [
    {
     "data": {
      "text/plain": [
       "42"
      ]
     },
     "execution_count": 17,
     "metadata": {},
     "output_type": "execute_result"
    }
   ],
   "source": [
    "len(config['NBA_Player_stats'][0])"
   ]
  },
  {
   "cell_type": "code",
   "execution_count": 23,
   "metadata": {},
   "outputs": [
    {
     "data": {
      "text/plain": [
       "'/Users/Liu/NBA_Pro_Line_Analytics/2009-2010_NBA_Box_Score_Team-Stats_cleaned.csv'"
      ]
     },
     "execution_count": 23,
     "metadata": {},
     "output_type": "execute_result"
    }
   ],
   "source": [
    "dir + data_name"
   ]
  },
  {
   "cell_type": "code",
   "execution_count": 26,
   "metadata": {
    "collapsed": true
   },
   "outputs": [],
   "source": [
    "df_new.to_csv(dir + 'build_data/NBA_Team_Stats_2010-2019/{0}'.format(data_name))"
   ]
  },
  {
   "cell_type": "code",
   "execution_count": null,
   "metadata": {
    "collapsed": true
   },
   "outputs": [],
   "source": [
    "df"
   ]
  }
 ],
 "metadata": {
  "kernelspec": {
   "display_name": "Python 3",
   "language": "python",
   "name": "python3"
  },
  "language_info": {
   "codemirror_mode": {
    "name": "ipython",
    "version": 3
   },
   "file_extension": ".py",
   "mimetype": "text/x-python",
   "name": "python",
   "nbconvert_exporter": "python",
   "pygments_lexer": "ipython3",
   "version": "3.6.3"
  }
 },
 "nbformat": 4,
 "nbformat_minor": 2
}
